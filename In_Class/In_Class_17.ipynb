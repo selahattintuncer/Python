{
 "metadata": {
  "language_info": {
   "codemirror_mode": {
    "name": "ipython",
    "version": 3
   },
   "file_extension": ".py",
   "mimetype": "text/x-python",
   "name": "python",
   "nbconvert_exporter": "python",
   "pygments_lexer": "ipython3",
   "version": "3.9.2"
  },
  "orig_nbformat": 2,
  "kernelspec": {
   "name": "python392jvsc74a57bd08aa71f66831ae3a9c893a3b058ea0ed6f85404695a12d9a8794cb7bab518847e",
   "display_name": "Python 3.9.2 64-bit"
  },
  "metadata": {
   "interpreter": {
    "hash": "8aa71f66831ae3a9c893a3b058ea0ed6f85404695a12d9a8794cb7bab518847e"
   }
  }
 },
 "nbformat": 4,
 "nbformat_minor": 2,
 "cells": [
  {
   "cell_type": "code",
   "execution_count": 4,
   "metadata": {},
   "outputs": [
    {
     "output_type": "execute_result",
     "data": {
      "text/plain": [
       "False"
      ]
     },
     "metadata": {},
     "execution_count": 4
    }
   ],
   "source": [
    "all([\"\", \"tr\", 1]) #içeride bir tane bile False değer olursa False döner"
   ]
  },
  {
   "cell_type": "code",
   "execution_count": 3,
   "metadata": {},
   "outputs": [
    {
     "output_type": "execute_result",
     "data": {
      "text/plain": [
       "True"
      ]
     },
     "metadata": {},
     "execution_count": 3
    }
   ],
   "source": [
    "all({})  #boş collectionlar True döner\n",
    "all([])\n",
    "all(())"
   ]
  },
  {
   "cell_type": "code",
   "execution_count": 5,
   "metadata": {},
   "outputs": [
    {
     "output_type": "execute_result",
     "data": {
      "text/plain": [
       "True"
      ]
     },
     "metadata": {},
     "execution_count": 5
    }
   ],
   "source": [
    "any([\"\", \"tr\", 1]) #içeride bir tane bile True değer olursa True döner"
   ]
  },
  {
   "cell_type": "code",
   "execution_count": 6,
   "metadata": {},
   "outputs": [
    {
     "output_type": "execute_result",
     "data": {
      "text/plain": [
       "False"
      ]
     },
     "metadata": {},
     "execution_count": 6
    }
   ],
   "source": [
    "any({}) #boş collectionlar False döner"
   ]
  },
  {
   "cell_type": "code",
   "execution_count": 7,
   "metadata": {},
   "outputs": [
    {
     "output_type": "execute_result",
     "data": {
      "text/plain": [
       "False"
      ]
     },
     "metadata": {},
     "execution_count": 7
    }
   ],
   "source": [
    "any([])"
   ]
  },
  {
   "cell_type": "code",
   "execution_count": 9,
   "metadata": {},
   "outputs": [
    {
     "output_type": "stream",
     "name": "stdout",
     "text": [
      "[1, 3, 5, 7, 9]\n"
     ]
    }
   ],
   "source": [
    "# filter() fonksiyonu\n",
    "\n",
    "number_list=[1, 2, 3, 4, 5, 6, 7, 8, 9, 10]\n",
    "result= list(filter(lambda x:x%2==1, number_list))   \n",
    "print(result)"
   ]
  },
  {
   "cell_type": "code",
   "execution_count": 11,
   "metadata": {},
   "outputs": [
    {
     "output_type": "stream",
     "name": "stdout",
     "text": [
      "0 İstanbul\n"
     ]
    }
   ],
   "source": [
    "listem = [None, \"0\", \"İstanbul\", ()] \n",
    "filtered = filter(None, listem)\n",
    "print(*filtered)"
   ]
  },
  {
   "cell_type": "code",
   "execution_count": 13,
   "metadata": {},
   "outputs": [
    {
     "output_type": "stream",
     "name": "stdout",
     "text": [
      "<class 'enumerate'>\n[(0, 'bread'), (1, 'water'), (2, 'olive')]\n[(10, 'bread'), (11, 'water'), (12, 'olive')]\n"
     ]
    }
   ],
   "source": [
    "# enumerate() fonksiyonu \n",
    "\n",
    "grocery = ['bread', 'water', 'olive']\n",
    "enum_grocery = enumerate(grocery)\n",
    "print(type(enum_grocery))\n",
    "print(list(enum_grocery))\n",
    "enum_grocery = enumerate(grocery, 10)\n",
    "print(list(enum_grocery))"
   ]
  },
  {
   "cell_type": "code",
   "execution_count": 14,
   "metadata": {},
   "outputs": [
    {
     "output_type": "stream",
     "name": "stdout",
     "text": [
      "21.5\n41.5\n"
     ]
    }
   ],
   "source": [
    "# sum() fonksiyonu   iterabl durumdaki rakamlarda her basamaktaki rakamları biribir ile tople\n",
    "\n",
    "numbers = [2.5, 30, 4, -15]\n",
    "numbers_sum = sum(numbers)\n",
    "print(numbers_sum)\n",
    "numbers_sum = sum(numbers, 20)\n",
    "print(numbers_sum)"
   ]
  },
  {
   "cell_type": "code",
   "execution_count": 19,
   "metadata": {},
   "outputs": [
    {
     "output_type": "stream",
     "name": "stdout",
     "text": [
      "15\n-2.5\namazing amazing amazing \n"
     ]
    }
   ],
   "source": [
    "def multiply (a, b) :\n",
    "  print(a*b)\n",
    "multiply(3, 5)\n",
    "multiply(-1, 2.5)\n",
    "multiply(\"amazing \", 3) # it's really amazing, right?"
   ]
  },
  {
   "cell_type": "code",
   "execution_count": 25,
   "metadata": {},
   "outputs": [
    {
     "output_type": "stream",
     "name": "stdout",
     "text": [
      "10\n"
     ]
    }
   ],
   "source": [
    "def add(a, b):\n",
    "    print(a + b)\n",
    "add(4, 6)"
   ]
  },
  {
   "cell_type": "code",
   "execution_count": 22,
   "metadata": {},
   "outputs": [
    {
     "output_type": "stream",
     "name": "stdout",
     "text": [
      "10\nNone\n"
     ]
    }
   ],
   "source": []
  },
  {
   "cell_type": "code",
   "execution_count": 36,
   "metadata": {},
   "outputs": [
    {
     "output_type": "stream",
     "name": "stdout",
     "text": [
      "6\n"
     ]
    }
   ],
   "source": [
    "def calculator(a, b, opr):\n",
    "    if opr == \"+\":\n",
    "        print(a+b)\n",
    "    elif opr == \"-\":\n",
    "        print(a-b)\n",
    "    elif opr == \"*\":\n",
    "        print(a*b)\n",
    "    elif opr == \"/\":\n",
    "        print(int(a/b))\n",
    "    else:\n",
    "        print(\"Enter valid arguments\")\n",
    "calculator(36, 6, \"/\")"
   ]
  },
  {
   "cell_type": "code",
   "execution_count": 37,
   "metadata": {},
   "outputs": [
    {
     "output_type": "stream",
     "name": "stdout",
     "text": [
      "7\n"
     ]
    }
   ],
   "source": [
    "def mul(x, y):\n",
    "    return x + y\n",
    "\n",
    "aa = mul(2, 5)\n",
    "print(aa)"
   ]
  },
  {
   "cell_type": "code",
   "execution_count": 38,
   "metadata": {},
   "outputs": [
    {
     "output_type": "stream",
     "name": "stdout",
     "text": [
      "print\ntype None\n<class 'NoneType'>\n"
     ]
    }
   ],
   "source": [
    "print(type(print(\"type\", print(\"print\"))))"
   ]
  },
  {
   "cell_type": "code",
   "execution_count": 39,
   "metadata": {},
   "outputs": [
    {
     "output_type": "stream",
     "name": "stdout",
     "text": [
      "ben çalıştım\n"
     ]
    }
   ],
   "source": [
    "def boolean():\n",
    "    return True\n",
    "if boolean():\n",
    "    print(\"ben çalıştım\")\n",
    "else :\n",
    "    print(\"beni rahatsız etmeyesen.\")\n"
   ]
  },
  {
   "cell_type": "code",
   "execution_count": 42,
   "metadata": {},
   "outputs": [
    {
     "output_type": "execute_result",
     "data": {
      "text/plain": [
       "6.0"
      ]
     },
     "metadata": {},
     "execution_count": 42
    }
   ],
   "source": [
    "def calculator(a, b, opr):\n",
    "    if opr == \"+\":\n",
    "        return a+b\n",
    "    elif opr == \"-\":\n",
    "        return a-b\n",
    "    elif opr == \"*\":\n",
    "        return a*b\n",
    "    elif opr == \"/\":\n",
    "        return a/b\n",
    "    else:\n",
    "        return(\"Enter valid arguments\")\n",
    "\n",
    "\n",
    "calculator(36, 6, \"/\")"
   ]
  },
  {
   "cell_type": "code",
   "execution_count": null,
   "metadata": {},
   "outputs": [],
   "source": [
    "def absolute_value():\n",
    "    "
   ]
  }
 ]
}