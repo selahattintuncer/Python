{
 "metadata": {
  "language_info": {
   "codemirror_mode": {
    "name": "ipython",
    "version": 3
   },
   "file_extension": ".py",
   "mimetype": "text/x-python",
   "name": "python",
   "nbconvert_exporter": "python",
   "pygments_lexer": "ipython3",
   "version": "3.9.2-final"
  },
  "orig_nbformat": 2,
  "kernelspec": {
   "name": "python392jvsc74a57bd08aa71f66831ae3a9c893a3b058ea0ed6f85404695a12d9a8794cb7bab518847e",
   "display_name": "Python 3.9.2 64-bit"
  },
  "metadata": {
   "interpreter": {
    "hash": "8aa71f66831ae3a9c893a3b058ea0ed6f85404695a12d9a8794cb7bab518847e"
   }
  }
 },
 "nbformat": 4,
 "nbformat_minor": 2,
 "cells": [
  {
   "cell_type": "code",
   "execution_count": 12,
   "metadata": {},
   "outputs": [
    {
     "output_type": "execute_result",
     "data": {
      "text/plain": [
       "['a', 'b', 'c', 'd', 'e', 'f', 'g', 'h', 'i', 'j']"
      ]
     },
     "metadata": {},
     "execution_count": 12
    }
   ],
   "source": [
    "harfler = \"a b c d e f g h i j\".split()\n",
    "harfler"
   ]
  },
  {
   "cell_type": "code",
   "execution_count": 6,
   "metadata": {},
   "outputs": [
    {
     "output_type": "stream",
     "name": "stdout",
     "text": [
      "['abcdefghij']\n"
     ]
    }
   ],
   "source": [
    "harfler =\"abcdefghij\".split()\n",
    "print(harfler)"
   ]
  },
  {
   "cell_type": "code",
   "execution_count": 16,
   "metadata": {},
   "outputs": [
    {
     "output_type": "stream",
     "name": "stdout",
     "text": [
      "['ahmet', 'ceylan', 'mehmet', 'seyhan']\n"
     ]
    }
   ],
   "source": [
    "isimler = [\"ahmet\", \"mehmet\", \"ceylan\", \"seyhan\"]\n",
    "sorted_isimler =sorted(isimler) # sorted fonksiyonu şist içindeki literıbl elemanları alfebetik sıralar ASCII coda göre.\n",
    "print(sorted_isimler)"
   ]
  },
  {
   "cell_type": "code",
   "execution_count": 27,
   "metadata": {},
   "outputs": [
    {
     "output_type": "stream",
     "name": "stdout",
     "text": [
      "None\n"
     ]
    }
   ],
   "source": [
    "sehirler = [\"tokyo\", \"addis ababa\", \"rome\", \"istanbul\", \"rio\"]\n",
    "print(sehirler.sort())"
   ]
  },
  {
   "cell_type": "code",
   "execution_count": 28,
   "metadata": {},
   "outputs": [
    {
     "output_type": "stream",
     "name": "stdout",
     "text": [
      "('A', 'l', 'p', 's')\n"
     ]
    }
   ],
   "source": [
    "moun = tuple('Alps')\n",
    "print(moun)"
   ]
  },
  {
   "cell_type": "code",
   "execution_count": 34,
   "metadata": {},
   "outputs": [
    {
     "output_type": "stream",
     "name": "stdout",
     "text": [
      "(1, 2, 3, 4, 5, 6, 7, 8, 9, 10)\n"
     ]
    }
   ],
   "source": [
    "new_tuple = tuple(range(1, 11))\n",
    "print(new_tuple)"
   ]
  },
  {
   "cell_type": "code",
   "execution_count": null,
   "metadata": {},
   "outputs": [],
   "source": []
  }
 ]
}