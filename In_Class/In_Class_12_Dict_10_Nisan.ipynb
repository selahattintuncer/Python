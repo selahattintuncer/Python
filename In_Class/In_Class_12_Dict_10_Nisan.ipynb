{
 "metadata": {
  "language_info": {
   "codemirror_mode": {
    "name": "ipython",
    "version": 3
   },
   "file_extension": ".py",
   "mimetype": "text/x-python",
   "name": "python",
   "nbconvert_exporter": "python",
   "pygments_lexer": "ipython3",
   "version": "3.9.2-final"
  },
  "orig_nbformat": 2,
  "kernelspec": {
   "name": "python392jvsc74a57bd08aa71f66831ae3a9c893a3b058ea0ed6f85404695a12d9a8794cb7bab518847e",
   "display_name": "Python 3.9.2 64-bit"
  },
  "metadata": {
   "interpreter": {
    "hash": "8aa71f66831ae3a9c893a3b058ea0ed6f85404695a12d9a8794cb7bab518847e"
   }
  }
 },
 "nbformat": 4,
 "nbformat_minor": 2,
 "cells": [
  {
   "cell_type": "code",
   "execution_count": 80,
   "metadata": {},
   "outputs": [
    {
     "output_type": "stream",
     "name": "stdout",
     "text": [
      "{1: 'one', 'two': 2, False: [1, 2, 3], 1.5: ('one', 'two')}\n"
     ]
    }
   ],
   "source": [
    "first_dict = {1 : \"one\", \"two\" : 2, False: [1, 2, 3], 1.5 : (\"one\", \"two\") }  # her bir elaman key ve value den oluşur ve her elemana item denir. Key ler string, int, boolen, tuple olabilir. Value her türlü değer alabilir.\n",
    "print(first_dict)"
   ]
  },
  {
   "cell_type": "code",
   "execution_count": 81,
   "metadata": {},
   "outputs": [
    {
     "output_type": "stream",
     "name": "stdout",
     "text": [
      "{'fruit': 'apple', 'drink': 'water'}\n{'fruit': 'apple', 'drink': 'water'}\n"
     ]
    }
   ],
   "source": [
    "grocer1 = {\"fruit\" : \"apple\", \"drink\": \"water\"}\n",
    "grocer2 = dict(fruit = \"apple\", drink = \"water\") #her iki şekilde dict tanımlanabilir. Buradaki key tipleri değişken değil veri tipine dönüşür. Burada string oluyorlar\n",
    "\n",
    "print(grocer1)\n",
    "print(grocer2)"
   ]
  },
  {
   "cell_type": "code",
   "execution_count": 82,
   "metadata": {},
   "outputs": [
    {
     "output_type": "stream",
     "name": "stdout",
     "text": [
      "Denver\n"
     ]
    }
   ],
   "source": [
    "state_capitals = {'Arkansas': 'Little Rock',\n",
    "'Colorado': 'Denver',\n",
    "'California': 'Sacramento',\n",
    "'Georgia': 'Atlanta'}\n",
    "print(state_capitals['Colorado']) # accessing method. Burada key değil de o key e ait value döner"
   ]
  },
  {
   "cell_type": "code",
   "execution_count": 83,
   "metadata": {},
   "outputs": [
    {
     "output_type": "stream",
     "name": "stdout",
     "text": [
      "istanbul\n"
     ]
    }
   ],
   "source": [
    "sehir1 = \"istanbul\"\n",
    "sehir2 = \"ankara\"\n",
    "\n",
    "sehirler = {1 : sehir1, 2 : sehir2}\n",
    "\n",
    "print(sehirler[1])"
   ]
  },
  {
   "cell_type": "code",
   "execution_count": 84,
   "metadata": {},
   "outputs": [
    {
     "output_type": "stream",
     "name": "stdout",
     "text": [
      "{1: 'istanbul', 2: 'ankara', 3: 'Konya'}\n"
     ]
    }
   ],
   "source": [
    "sehir1 = \"istanbul\"\n",
    "sehir2 = \"ankara\"\n",
    "\n",
    "sehirler = {1 : sehir1, 2 : sehir2}\n",
    "\n",
    "sehirler[3] = \"Konya\" #\n",
    "print(sehirler)"
   ]
  },
  {
   "cell_type": "code",
   "execution_count": 85,
   "metadata": {},
   "outputs": [
    {
     "output_type": "stream",
     "name": "stdout",
     "text": [
      "{'Arkansas': 'Little Rock', 'Colorado': 'Denver', 'California': 'Sacramento', 'Georgia': 'Atlanta', 'Virginia': 'Richmond'}\n"
     ]
    }
   ],
   "source": [
    "state_capitals = {'Arkansas': 'Little Rock',\n",
    "'Colorado': 'Denver',\n",
    "'California': 'Sacramento',\n",
    "'Georgia': 'Atlanta'}\n",
    "state_capitals['Virginia'] = 'Richmond' # adding a new item\n",
    "print(state_capitals)"
   ]
  },
  {
   "cell_type": "code",
   "execution_count": 86,
   "metadata": {},
   "outputs": [
    {
     "output_type": "stream",
     "name": "stdout",
     "text": [
      "{'Arkansas': 'Little Rock', 'Colorado': 'Denver', 'California': 'Sacramento', 'Georgia': 'Atlanta', 'Virginia': 'Richmond', 'california': 'istanbul'}\n"
     ]
    }
   ],
   "source": [
    "state_capitals[\"california\"] = \"istanbul\" # California key inin value si istabbul olarak değişti\n",
    "\n",
    "print(state_capitals)"
   ]
  },
  {
   "cell_type": "code",
   "execution_count": 87,
   "metadata": {},
   "outputs": [],
   "source": [
    "mix_values = {'animal': ('dog', 'cat'),  # tuple type\n",
    "              'planet': ['Neptun', 'Saturn', 'Jupiter'],  # list type\n",
    "              'number': 40,  # int type\n",
    "              'pi': 3.14,  # float type\n",
    "              'is_good': True}  # bool type\n",
    "\n",
    "mix_keys = {22 : \"integer\",\n",
    "            1.2 : \"float\",\n",
    "            True : \"boolean\",\n",
    "            \"key\" : \"string\"}"
   ]
  },
  {
   "cell_type": "code",
   "execution_count": 88,
   "metadata": {},
   "outputs": [
    {
     "output_type": "stream",
     "name": "stdout",
     "text": [
      "{'name1': 'Selo', 'name2': 'Gülo', 'name3': 'Buro'}\n"
     ]
    }
   ],
   "source": [
    "family = {\"name1\" : \"Selo\", \"name2\" : \"Gülo\", \"name3\" : \"Buro\"}\n",
    "print(family)"
   ]
  },
  {
   "cell_type": "code",
   "execution_count": 89,
   "metadata": {},
   "outputs": [
    {
     "output_type": "stream",
     "name": "stdout",
     "text": [
      "{'name1': 'Selo', 'name2': 'Gülo', 'name3': 'Buro', 'name4': 'Mira'}\n"
     ]
    }
   ],
   "source": [
    "family[\"name4\"] = \"Mira\"  # dict e yeni bir item( key + value) ekler\n",
    "print(family)"
   ]
  },
  {
   "cell_type": "code",
   "execution_count": 90,
   "metadata": {},
   "outputs": [
    {
     "output_type": "stream",
     "name": "stdout",
     "text": [
      "{'animal': 'dog', 'planet': 'neptun', 'number': 40, 'pi': 3.14, 'is_good': True}\n"
     ]
    }
   ],
   "source": [
    "dict_by_dict = dict(animal='dog', planet='neptun', number=40, pi=3.14, is_good=True)  #dict() fonksiyonu ile dict oluşturuldu. Burada key lere değer atanırken değişkene değer atanıyormuş gibi yazılır. Ancak key ler değişken değil string olarak dönerler.\n",
    "print(dict_by_dict)"
   ]
  },
  {
   "cell_type": "code",
   "execution_count": 91,
   "metadata": {},
   "outputs": [
    {
     "output_type": "stream",
     "name": "stdout",
     "text": [
      "{'name1': 'Selo', 'name2': 'Gülo', 'name3': 'Buro', 'name4': 'Mira'}\n"
     ]
    }
   ],
   "source": [
    "family = dict(name1 = \"Selo\", name2 = \"Gülo\", name3 = \"Buro\", name4 = 'Mira')\n",
    "print(family)"
   ]
  },
  {
   "cell_type": "code",
   "execution_count": 92,
   "metadata": {},
   "outputs": [
    {
     "output_type": "stream",
     "name": "stdout",
     "text": [
      "dict_items([('animal', 'dog'), ('planet', 'neptun'), ('number', 40), ('pi', 3.14), ('is_good', True)]) \n",
      "\n",
      "dict_keys(['animal', 'planet', 'number', 'pi', 'is_good']) \n",
      "\n",
      "dict_values(['dog', 'neptun', 40, 3.14, True])\n"
     ]
    }
   ],
   "source": [
    "dict_by_dict = {'animal': 'dog',\n",
    "                'planet': 'neptun',\n",
    "                'number': 40,\n",
    "                'pi': 3.14,\n",
    "                'is_good': True}\n",
    "\n",
    "print(dict_by_dict.items(), '\\n')  # itemsleri  döndürür (tuple olarak)\n",
    "print(dict_by_dict.keys(), '\\n') # keyleri döndürür\n",
    "print(dict_by_dict.values())  # valueleri döndürür"
   ]
  },
  {
   "cell_type": "code",
   "execution_count": 93,
   "metadata": {},
   "outputs": [
    {
     "output_type": "stream",
     "name": "stdout",
     "text": [
      "dict_items([('name1', 'Selo'), ('name2', 'Gülo'), ('name3', 'Buro'), ('name4', 'Berko'), ('name5', 'Mira')]) \n\ndict_keys(['name1', 'name2', 'name3', 'name4', 'name5']) \n\ndict_values(['Selo', 'Gülo', 'Buro', 'Berko', 'Mira']) \n\n"
     ]
    }
   ],
   "source": [
    "family = dict(name1 = \"Selo\", name2 = \"Gülo\", name3 = \"Buro\", name4 = 'Berko', name5 = 'Mira')\n",
    "print(family.items(), '\\n')\n",
    "print(family.keys(), '\\n')\n",
    "print(family.values(), '\\n')"
   ]
  },
  {
   "cell_type": "code",
   "execution_count": 94,
   "metadata": {},
   "outputs": [
    {
     "output_type": "stream",
     "name": "stdout",
     "text": [
      "{'name1': 'Selo', 'name2': 'Gülo', 'name3': 'Buro', 'name4': 'Berko', 'name5': 'Mira', 1: 'football', 2: 'basketball'}\n"
     ]
    }
   ],
   "source": [
    "family = dict(name1 = \"Selo\", name2 = \"Gülo\", name3 = \"Buro\", name4 = 'Berko', name5 = 'Mira')\n",
    "\n",
    "team = {1: \"football\", 2: \"basketball\"}\n",
    "\n",
    "family.update(team)  #dict e yeni bir dict i ekler. burada yeni bir team isimli dict değişkeni yerine birden fazla item içeren dict de eklenebilir.\n",
    "\n",
    "print(family)"
   ]
  },
  {
   "cell_type": "code",
   "execution_count": 95,
   "metadata": {},
   "outputs": [
    {
     "output_type": "stream",
     "name": "stdout",
     "text": [
      "{'name1': 'Selo', 'name2': 'Gülo', 'name3': 'Buro'}\n"
     ]
    }
   ],
   "source": [
    "family = dict(name1 = \"Selo\", name2 = \"Gülo\", name3 = \"Buro\", name4 = 'Berko', name5 = 'Mira')\n",
    "del family[\"name5\"], family[\"name4\"]  # del metodu ile key i verilen itemi komple siler\n",
    "\n",
    "print(family)"
   ]
  },
  {
   "cell_type": "code",
   "execution_count": 96,
   "metadata": {},
   "outputs": [
    {
     "output_type": "stream",
     "name": "stdout",
     "text": [
      "True\n",
      "False\n"
     ]
    }
   ],
   "source": [
    "family = dict(name1 = \"Selo\", name2 = \"Gülo\", name3 = \"Buro\", name4 = 'Berko', name5 = 'Mira')\n",
    "\n",
    "print(\"name1\" in family)  # name1 keyi dict içinde varsa True döndürür.\n",
    "print(\"name1\" not in family)  # name1 keyi dict içinde yoksa True döndürür.\n"
   ]
  },
  {
   "cell_type": "code",
   "execution_count": 97,
   "metadata": {},
   "outputs": [
    {
     "output_type": "stream",
     "name": "stdout",
     "text": [
      "True\n",
      "False\n"
     ]
    }
   ],
   "source": [
    "family = dict(name1 = \"Selo\", name2 = \"Gülo\", name3 = \"Buro\", name4 = 'Berko', name5 = 'Mira')\n",
    "\n",
    "print(\"Gülo\" in family.values())  # Gülo value dict içinde varsa True döndürür.\n",
    "print(\"Gülo\" not in family.values())  # Gülo value dict içinde yoksa True döndürür."
   ]
  },
  {
   "cell_type": "code",
   "execution_count": 113,
   "metadata": {},
   "outputs": [
    {
     "output_type": "stream",
     "name": "stdout",
     "text": [
      "{'kid': {'tom': {'class': 'intermediate', 'age': 10}, 'sue': {'class': 'elementary', 'age': 8}}, 'teen': {'joseph': {'class': 'college', 'age': 19}, 'marry': {'class': 'high school', 'age': 16}}}\n---------------\n{'joseph': {'class': 'college', 'age': 19}, 'marry': {'class': 'high school', 'age': 16}}\n---------------\n{'class': 'high school', 'age': 16}\n---------------\n16\n"
     ]
    }
   ],
   "source": [
    "# İç içe dick ler (Nested dicts)\n",
    "school_records={\n",
    "    \"personal_info\":\n",
    "        {\"kid\":{\"tom\": {\"class\": \"intermediate\", \"age\": 10},\n",
    "                \"sue\": {\"class\": \"elementary\", \"age\": 8}\n",
    "               },\n",
    "         \"teen\":{\"joseph\":{\"class\": \"college\", \"age\": 19},\n",
    "                 \"marry\":{\"class\": \"high school\", \"age\": 16}\n",
    "               }               \n",
    "        },\n",
    "        \n",
    "    \"grades_info\":\n",
    "        {\"kid\":{\"tom\": {\"math\": 88, \"speech\": 69},\n",
    "                \"sue\": {\"math\": 90, \"speech\": 81}\n",
    "               },\n",
    "         \"teen\":{\"joseph\":{\"coding\": 80, \"math\": 89},\n",
    "                 \"marry\":{\"coding\": 70, \"math\": 96}\n",
    "               }               \n",
    "        }        \n",
    "}\n",
    "\n",
    "print(school_records[\"personal_info\"]) #school_records içindeki ilk sözlük indexlendi\n",
    "print(\"---------------\")\n",
    "print(school_records[\"personal_info\"][\"teen\"])  # \"personal_info\" içindeki ikinci dict indexlendi\n",
    "print(\"---------------\")\n",
    "print(school_records[\"personal_info\"][\"teen\"][\"marry\"]) # teen  içindeki marry kütüphanesi indexlendi\n",
    "print(\"---------------\")\n",
    "print(school_records[\"personal_info\"][\"teen\"][\"marry\"][\"age\"])\n",
    "\n",
    "\n",
    "\n"
   ]
  },
  {
   "cell_type": "code",
   "execution_count": 121,
   "metadata": {},
   "outputs": [
    {
     "output_type": "stream",
     "name": "stdout",
     "text": [
      "{'coding': 80, 'math': 89}\ndict_items([('coding', 80), ('math', 89)])\n"
     ]
    }
   ],
   "source": [
    "school_records={\n",
    "    \"personal_info\":\n",
    "        {\"kid\":{\"tom\": {\"class\": \"intermediate\", \"age\": 10},\n",
    "                \"sue\": {\"class\": \"elementary\", \"age\": 8}\n",
    "               },\n",
    "         \"teen\":{\"joseph\":{\"class\": \"college\", \"age\": 19},\n",
    "                 \"marry\":{\"class\": \"high school\", \"age\": 16}\n",
    "               }               \n",
    "        },\n",
    "        \n",
    "    \"grades_info\":\n",
    "        {\"kid\":{\"tom\": {\"math\": 88, \"speech\": 69},\n",
    "                \"sue\": {\"math\": 90, \"speech\": 81}\n",
    "               },\n",
    "         \"teen\":{\"joseph\":{\"coding\": 80, \"math\": 89},\n",
    "                 \"marry\":{\"coding\": 70, \"math\": 96}\n",
    "               }               \n",
    "        }        \n",
    "}\n",
    "\n",
    "\n",
    "print(school_records[\"grades_info\"][\"teen\"][\"joseph\"]) # joseh ait bilgiler dict olarak indexlendi\n",
    "\n",
    "print(school_records[\"grades_info\"][\"teen\"][\"joseph\"].items()) # joseh ait bilgiler tuple olarak indexlendi"
   ]
  },
  {
   "cell_type": "code",
   "execution_count": 123,
   "metadata": {},
   "outputs": [
    {
     "output_type": "stream",
     "name": "stdout",
     "text": [
      "{'friend1': {'first': 'sue', 'last': 'bold'}, 'friend2': {'first': 'steve', 'last': 'smith'}, 'friend3': {'first': 'sergio', 'last': 'tatoo'}} \n\n"
     ]
    }
   ],
   "source": [
    "friends={\n",
    "    \"friend1\" : {\"first\" : \"sue\", \"last\" : \"bold\"  },\n",
    "    \"friend2\" : {\"first\" : \"steve\", \"last\" : \"smith\"  },\n",
    "    \"friend3\" : {\"first\" : \"sergio\", \"last\" : \"tatoo\"  },\n",
    "}\n",
    "\n",
    "print(friends)"
   ]
  },
  {
   "cell_type": "code",
   "execution_count": 128,
   "metadata": {},
   "outputs": [
    {
     "output_type": "stream",
     "name": "stdout",
     "text": [
      "{'friends': {'friend1': {'first': 'sue', 'last': 'bold'}, 'friend2': {'first': 'steve', 'last': 'smith'}, 'friend3': {'first': 'sergio', 'last': 'tatoo'}}, 'family': {'mom': {'first': 'Mary', 'last': 'tunc'}, 'brodher': {'first': 'jon', 'last': 'tunc'}, 'father': {'first': 'sergio', 'last': 'tunc'}}}\n"
     ]
    }
   ],
   "source": [
    "favourite ={\n",
    "    \"friends\" :{\n",
    "        \"friend1\" : {\"first\" : \"sue\", \"last\" : \"bold\"  },\n",
    "        \"friend2\" : {\"first\" : \"steve\", \"last\" : \"smith\"  },\n",
    "        \"friend3\" : {\"first\" : \"sergio\", \"last\" : \"tatoo\"  },\n",
    "    },\n",
    "    \n",
    "    \"family\" : {\n",
    "        \"mom\" : {\"first\" : \"Mary\", \"last\" : \"tunc\"  },\n",
    "        \"brodher\" : {\"first\" : \"jon\", \"last\" : \"tunc\"  },\n",
    "        \"father\" : {\"first\" : \"sergio\", \"last\" : \"tunc\"  },\n",
    "    }\n",
    "\n",
    "}\n",
    "\n",
    "print(favourite)"
   ]
  },
  {
   "cell_type": "code",
   "execution_count": null,
   "metadata": {},
   "outputs": [],
   "source": [
    "#KÜMELER (SETS): \n"
   ]
  },
  {
   "cell_type": "code",
   "execution_count": 129,
   "metadata": {},
   "outputs": [
    {
     "output_type": "stream",
     "name": "stdout",
     "text": [
      "<class 'set'>\n"
     ]
    }
   ],
   "source": [
    "empty_set = set()\n",
    "\n",
    "print(type(empty_set))\n"
   ]
  },
  {
   "cell_type": "code",
   "execution_count": 145,
   "metadata": {},
   "outputs": [
    {
     "output_type": "stream",
     "name": "stdout",
     "text": [
      "{'blue', 'red', 'pink'}\n{'blue', 'red', 'pink'}\n<class 'set'>\n"
     ]
    }
   ],
   "source": [
    "set_1 = {'red', 'blue', 'pink', 'red'}\n",
    "colors = 'red', 'blue', 'pink', 'red'\n",
    "set_2 = set(colors)\n",
    "\n",
    "print(set_1)  # küme içindeki elemanları tekrar etmeden yazar. yani uniqtir. tek sefer yazar\n",
    "print(set_2)\n",
    "\n",
    "print(type(set_1))"
   ]
  },
  {
   "cell_type": "code",
   "execution_count": 149,
   "metadata": {},
   "outputs": [
    {
     "output_type": "stream",
     "name": "stdout",
     "text": [
      "['a', 'b', 'c', 'd', 'e', 'f', 'g', 'h', 'ı', 'j', 'k', 'l', 'm', 'n', 'o', 'p', 'r', 's', 't', 'u', 'v', 'y', 'z']\n{'n', 'y', 'd', 'ı', 'm', 'e', 'g', 'u', 'p', 't', 'k', 'f', 'c', 'v', 'j', 'r', 'a', 'z', 's', 'o', 'b', 'h', 'l'}\n"
     ]
    }
   ],
   "source": [
    "letter = \"a b c d e f g h ı j k l  m n o p r s t u v y z\".split()\n",
    "\n",
    "print(letter)\n",
    "\n",
    "print(set(letter))"
   ]
  },
  {
   "cell_type": "code",
   "execution_count": 167,
   "metadata": {},
   "outputs": [
    {
     "output_type": "stream",
     "name": "stdout",
     "text": [
      "{'rose', 'orchid', 'carnation', 'violet'}\n"
     ]
    }
   ],
   "source": [
    "flower_list = ['rose', 'violet', 'carnation', 'rose', 'orchid', 'rose', 'orchid']\n",
    "flowerset = set(flower_list)\n",
    "\n",
    "print(flowerset)\n"
   ]
  },
  {
   "cell_type": "code",
   "execution_count": null,
   "metadata": {},
   "outputs": [],
   "source": []
  }
 ]
}