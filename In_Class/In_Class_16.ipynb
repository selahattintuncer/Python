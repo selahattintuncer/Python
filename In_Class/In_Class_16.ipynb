{
 "metadata": {
  "language_info": {
   "codemirror_mode": {
    "name": "ipython",
    "version": 3
   },
   "file_extension": ".py",
   "mimetype": "text/x-python",
   "name": "python",
   "nbconvert_exporter": "python",
   "pygments_lexer": "ipython3",
   "version": "3.7.8"
  },
  "orig_nbformat": 2,
  "kernelspec": {
   "name": "python378jvsc74a57bd057baa5815c940fdaff4d14510622de9616cae602444507ba5d0b6727c008cbd6",
   "display_name": "Python 3.7.8 64-bit"
  },
  "metadata": {
   "interpreter": {
    "hash": "57baa5815c940fdaff4d14510622de9616cae602444507ba5d0b6727c008cbd6"
   }
  }
 },
 "nbformat": 4,
 "nbformat_minor": 2,
 "cells": [
  {
   "cell_type": "code",
   "execution_count": 1,
   "metadata": {},
   "outputs": [
    {
     "output_type": "stream",
     "name": "stdout",
     "text": [
      "one = 1\ntwo = 2\nthree = 3\nfour = 4\nfive = 5\n"
     ]
    }
   ],
   "source": [
    "text = ['one','two','three','four','five']\n",
    "numbers = [1, 2, 3, 4, 5]\n",
    "city = [\"Tokyo\", \"Kiev\", \"Mekke\", \"İstanbul\", \"Washington\"]\n",
    "for x, y in zip(text, numbers):\n",
    "    print(x, '=', y)"
   ]
  },
  {
   "cell_type": "code",
   "execution_count": 7,
   "metadata": {},
   "outputs": [
    {
     "output_type": "stream",
     "name": "stdout",
     "text": [
      "<zip object at 0x000002382DC17FC8>\n"
     ]
    }
   ],
   "source": [
    "print(zip(text, numbers))  #bu şekliyle görünür halde değildir. Görünmesi için *, loop, collections lar kullanılmalıdır"
   ]
  },
  {
   "cell_type": "code",
   "execution_count": 4,
   "metadata": {},
   "outputs": [
    {
     "output_type": "execute_result",
     "data": {
      "text/plain": [
       "[('one', 1), ('two', 2), ('three', 3), ('four', 4), ('five', 5)]"
      ]
     },
     "metadata": {},
     "execution_count": 4
    }
   ],
   "source": [
    "list(zip(text, numbers))"
   ]
  },
  {
   "cell_type": "code",
   "execution_count": 8,
   "metadata": {},
   "outputs": [
    {
     "output_type": "stream",
     "name": "stdout",
     "text": [
      "('one', 1) ('two', 2) ('three', 3) ('four', 4) ('five', 5)\n"
     ]
    }
   ],
   "source": [
    "print(*zip(text, numbers))"
   ]
  },
  {
   "cell_type": "code",
   "execution_count": 15,
   "metadata": {},
   "outputs": [
    {
     "output_type": "stream",
     "name": "stdout",
     "text": [
      "[0, 2, 4, 6, 8, 10]\n[1, 3, 5, 7, 9]\n"
     ]
    }
   ],
   "source": [
    "#TASK :\n",
    "evends = []\n",
    "odds = []\n",
    "\n",
    "for i in range(11):\n",
    "    if i % 2 == 0:\n",
    "        evends.append(i)\n",
    "    else:\n",
    "        odds.append(i)\n",
    "\n",
    "\n",
    "\n",
    "print(evends)\n",
    "print(odds)"
   ]
  },
  {
   "cell_type": "code",
   "execution_count": 16,
   "metadata": {},
   "outputs": [
    {
     "output_type": "stream",
     "name": "stdout",
     "text": [
      "[0, 2, 4, 6, 8, 10]\n[1, 3, 5, 7, 9]\n"
     ]
    }
   ],
   "source": [
    "# yukarıdaki işlemin farklı bir yolu:\n",
    "\n",
    "evends = [ i for i in range(11) if i % 2 == 0]  \n",
    "odds = [ i for i in range(11) if not i % 2 == 0]\n",
    "print(evends)\n",
    "print(odds)"
   ]
  },
  {
   "cell_type": "code",
   "execution_count": 27,
   "metadata": {},
   "outputs": [
    {
     "output_type": "stream",
     "name": "stdout",
     "text": [
      " Tek sayılar : 4 Adet\n Çift sayılar : 3 Adet\n"
     ]
    }
   ],
   "source": [
    "#TASK:\n",
    "\n",
    "evends = []\n",
    "odds = []\n",
    "\n",
    "List = [11, 2, 24, 61, 48, 33, 3]\n",
    "for i in range(len(List)):\n",
    "    if i % 2 == 0:\n",
    "        evends.append(i)\n",
    "    else:\n",
    "        odds.append(i)\n",
    "\n",
    "print(f\" Tek sayılar : {len(evends)} Adet\")\n",
    "print(f\" Çift sayılar : {len(odds)} Adet\")"
   ]
  },
  {
   "cell_type": "code",
   "execution_count": 35,
   "metadata": {},
   "outputs": [
    {
     "output_type": "stream",
     "name": "stdout",
     "text": [
      " Çift sayılar : 3 \n Tek sayılar : 4 \n"
     ]
    }
   ],
   "source": [
    "# yukarıdaki işlemin farklı bir yolu: (Hocanın yaptığı)\n",
    "evens = 0\n",
    "odds = 0\n",
    "\n",
    "List = [11, 2, 24, 61, 48, 33, 3]\n",
    "for i in List:\n",
    "    if  not i % 2 :\n",
    "        evens += 1\n",
    "    else:\n",
    "        odds += 1\n",
    "\n",
    "print(f\" Çift sayılar : {evens} \")\n",
    "print(f\" Tek sayılar : {odds} \")\n",
    "\n"
   ]
  },
  {
   "cell_type": "code",
   "execution_count": 39,
   "metadata": {},
   "outputs": [
    {
     "output_type": "stream",
     "name": "stdout",
     "text": [
      "1\n22\n333\n4444\n55555\n666666\n7777777\n88888888\n999999999\n"
     ]
    }
   ],
   "source": [
    "#TASK:\n",
    "\n",
    "for i in range(1,10):\n",
    "    print(str(i) * i)"
   ]
  },
  {
   "cell_type": "code",
   "execution_count": 60,
   "metadata": {},
   "outputs": [
    {
     "output_type": "stream",
     "name": "stdout",
     "text": [
      "2775\n"
     ]
    }
   ],
   "source": [
    "#TASK:\n",
    "toplam = 0\n",
    "for i in range(1, 75):\n",
    "    toplam += i\n",
    "print(toplam)"
   ]
  },
  {
   "cell_type": "code",
   "execution_count": 81,
   "metadata": {},
   "outputs": [
    {
     "output_type": "stream",
     "name": "stdout",
     "text": [
      "2775\n"
     ]
    }
   ],
   "source": [
    "# yukarıdaki işlemin farklı bir yolu:\n",
    "\n",
    "toplam = sum([i for i in range (75)])\n",
    "\n",
    "print (toplam)"
   ]
  },
  {
   "cell_type": "code",
   "execution_count": 84,
   "metadata": {},
   "outputs": [
    {
     "output_type": "stream",
     "name": "stdout",
     "text": [
      "susan is happy\nsusan is sad\ntom is happy\ntom is sad\nedward is happy\nedward is sad\n"
     ]
    }
   ],
   "source": [
    "# TASK\n",
    "names = [\"susan\", \"tom\", \"edward\"] \n",
    "mood = [\"happy\", \"sad\"]\n",
    "\n",
    "for i in names:\n",
    "    for ii in mood:\n",
    "        print(f\"{i} is {ii}\")\n",
    "\n"
   ]
  },
  {
   "cell_type": "code",
   "execution_count": 85,
   "metadata": {},
   "outputs": [
    {
     "output_type": "stream",
     "name": "stdout",
     "text": [
      "[1, 9, 25]\n"
     ]
    }
   ],
   "source": [
    "my_list = [1, 2, 3, 4, 5, 6]\n",
    "new_list = []\n",
    "\n",
    "for i in my_list:\n",
    "    if i % 2 :\n",
    "        new_list.append(i ** 2)\n",
    "\n",
    "print(new_list)"
   ]
  },
  {
   "cell_type": "code",
   "execution_count": 86,
   "metadata": {},
   "outputs": [
    {
     "output_type": "execute_result",
     "data": {
      "text/plain": [
       "[1, 2, 3, 4, 5, 6]"
      ]
     },
     "metadata": {},
     "execution_count": 86
    }
   ],
   "source": [
    "# YUKARIDAKİ İŞLEM AŞAĞIDAKİ METOT İLE DE YAPILABİLİR (List Comprehension)\n",
    "# \n",
    "# Kalıp : [expression for item in iterable], if eklenmişi : newlist = [expression for item in iterable if condition == True] \n",
    "\n",
    "my_list = [1, 2, 3, 4, 5, 6]\n",
    "print([i for i in my_list]) #Burada en baştaki i yani (expression) yukarıdaki new_list.append işlemini yapar\n"
   ]
  },
  {
   "cell_type": "code",
   "execution_count": 87,
   "metadata": {},
   "outputs": [
    {
     "output_type": "stream",
     "name": "stdout",
     "text": [
      "[1, 4, 9, 16, 25, 36]\n"
     ]
    }
   ],
   "source": [
    "my_list = [1, 2, 3, 4, 5, 6]\n",
    "print([i ** 2 for i in my_list])"
   ]
  },
  {
   "cell_type": "code",
   "execution_count": 88,
   "metadata": {},
   "outputs": [
    {
     "output_type": "stream",
     "name": "stdout",
     "text": [
      "[1, 9, 25]\n"
     ]
    }
   ],
   "source": [
    "my_list = [1, 2, 3, 4, 5, 6]\n",
    "print([i ** 2 for i in my_list if i % 2]) # burada if bloğu da eklendi"
   ]
  },
  {
   "cell_type": "code",
   "execution_count": null,
   "metadata": {},
   "outputs": [],
   "source": [
    "condition = True\n",
    "\n",
    "if condition :\n",
    "    a = 1\n",
    "else:\n",
    "    a = 0\n",
    "\n",
    "print(a)"
   ]
  },
  {
   "cell_type": "code",
   "execution_count": 89,
   "metadata": {},
   "outputs": [
    {
     "output_type": "stream",
     "name": "stdout",
     "text": [
      "1\n"
     ]
    }
   ],
   "source": [
    "\n",
    "# ternary if condition yapısı\n",
    "# execute-body1 if condition else execute-body2\n",
    "\n",
    "a = 1 if 2 < 4 else 0  # if bloğundaki ilk body en başa ikinci bady en sona yazılır.\n",
    "print(a)"
   ]
  },
  {
   "cell_type": "code",
   "execution_count": 90,
   "metadata": {},
   "outputs": [
    {
     "output_type": "execute_result",
     "data": {
      "text/plain": [
       "[1, 9, 25]"
      ]
     },
     "metadata": {},
     "execution_count": 90
    }
   ],
   "source": [
    "my_list = [1, 2, 3, 4, 5, 6]\n",
    "[i ** 2 for i in my_list if i%2]  #  burada \"i ** 2 for i in my_list \" komut satırı if bloğunun body1 i oluyor"
   ]
  },
  {
   "cell_type": "code",
   "execution_count": 91,
   "metadata": {},
   "outputs": [
    {
     "output_type": "stream",
     "name": "stdout",
     "text": [
      "0\n"
     ]
    }
   ],
   "source": [
    "print(i % 2)"
   ]
  },
  {
   "cell_type": "code",
   "execution_count": 93,
   "metadata": {},
   "outputs": [
    {
     "output_type": "stream",
     "name": "stdout",
     "text": [
      "<generator object <genexpr> at 0x000002382E20F848>\n1 4 9 16 25 36\n"
     ]
    }
   ],
   "source": [
    "a = (i**2 for i in my_list)\n",
    "print(a)\n",
    "print(*a)"
   ]
  },
  {
   "cell_type": "code",
   "execution_count": 106,
   "metadata": {},
   "outputs": [
    {
     "output_type": "stream",
     "name": "stdout",
     "text": [
      "1\n"
     ]
    }
   ],
   "source": [
    "a = (i**2 for i in my_list)\n",
    "\n",
    "print(next(a)) # ilk elemanı döndürür"
   ]
  },
  {
   "cell_type": "code",
   "execution_count": 107,
   "metadata": {},
   "outputs": [
    {
     "output_type": "stream",
     "name": "stdout",
     "text": [
      "4\n"
     ]
    }
   ],
   "source": [
    "print(next(a))  # ikinci elemanı döndürür"
   ]
  },
  {
   "cell_type": "code",
   "execution_count": 108,
   "metadata": {},
   "outputs": [
    {
     "output_type": "stream",
     "name": "stdout",
     "text": [
      "9\n"
     ]
    }
   ],
   "source": [
    "print(next(a)) # üçüncü elemanı döndürür. Tek tek for döngüsü yapılıyormuş gibi düşün. For döngüsünün arkasnda aslında bu fonksiyon çalışır."
   ]
  },
  {
   "cell_type": "code",
   "execution_count": null,
   "metadata": {},
   "outputs": [],
   "source": []
  }
 ]
}