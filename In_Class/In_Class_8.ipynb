{
 "metadata": {
  "language_info": {
   "codemirror_mode": {
    "name": "ipython",
    "version": 3
   },
   "file_extension": ".py",
   "mimetype": "text/x-python",
   "name": "python",
   "nbconvert_exporter": "python",
   "pygments_lexer": "ipython3",
   "version": "3.9.2-final"
  },
  "orig_nbformat": 2,
  "kernelspec": {
   "name": "python3",
   "display_name": "Python 3.9.2 64-bit",
   "metadata": {
    "interpreter": {
     "hash": "8aa71f66831ae3a9c893a3b058ea0ed6f85404695a12d9a8794cb7bab518847e"
    }
   }
  }
 },
 "nbformat": 4,
 "nbformat_minor": 2,
 "cells": [
  {
   "source": [
    "sentence = \" I live and work in Virginia\"\n",
    "\n",
    "print(sentence.upper()) #Tüm karakterleri büyük yaptı\n",
    "\n",
    "print(sentence.lower()) #Tüm karakterleri küçük yaptı\n",
    "\n",
    "print(sentence.swapcase()) # Büyük karakterleri küçük, küçük karakterleri büyük yaptı\n",
    "\n",
    "print(sentence)"
   ],
   "cell_type": "code",
   "metadata": {},
   "execution_count": null,
   "outputs": []
  },
  {
   "source": [
    "sentence = \" I live aNd worK in VirgiNIA\"\n",
    "\n",
    "title_sentence =  sentence.title()\n",
    "\n",
    "print(title_sentence)\n",
    "\n",
    "changed_str = sentence.replace(\"i\", \"+\") # i karakterinin yerine + karakteri yazar. Sondan ikinci I                                              harfini değiştirmedi.\n",
    "print(changed_str)\n",
    "\n",
    "changed_str_2 = title_sentence.replace(\"i\", \"+\") # ilk değişken ataması ile Sondan ikinci olan I                                                            harfine i harfine dönüştürdü ve  değişkene yeni                                                         metot uygulayarak i karakterini + ile değiştirdi\n",
    "print(changed_str_2)\n",
    "\n",
    "changed_str_3 = sentence.title().replace(\"i\", \"+\") # Bir önceki satırda yapıan işlemi tek satır komutu                                                      ile yaptı\n",
    "\n",
    "print(changed_str_3)"
   ],
   "cell_type": "code",
   "metadata": {},
   "execution_count": null,
   "outputs": []
  },
  {
   "cell_type": "code",
   "execution_count": 22,
   "metadata": {},
   "outputs": [
    {
     "output_type": "stream",
     "name": "stdout",
     "text": [
      "The Better The Family, The Better The Society\nTHE better THE FAMILY, the BETTER THE society\nThe better the family, the better the society\n"
     ]
    }
   ],
   "source": [
    "text = \"the BETTER the family, THE better the SOCIETY\"\n",
    "\n",
    "print(text.title()) # Kelimelerin ilk harflerini büyük yaptı\n",
    "\n",
    "\n",
    "print(text.swapcase()) # Büyük küçük yer değiştirdi\n",
    "\n",
    "print(text.capitalize()) # Cümle düzeni (Cümlenin ilk harfi büyük)\n"
   ]
  },
  {
   "cell_type": "code",
   "execution_count": 21,
   "metadata": {},
   "outputs": [
    {
     "output_type": "stream",
     "name": "stdout",
     "text": [
      "TEST CÜMLESI\n"
     ]
    }
   ],
   "source": [
    "test = \"test cümlesi\"\n",
    "\n",
    "print(str.swapcase(test))\n"
   ]
  },
  {
   "cell_type": "code",
   "execution_count": 28,
   "metadata": {},
   "outputs": [
    {
     "output_type": "stream",
     "name": "stdout",
     "text": [
      "Sodome and Gomore\nSodome and Gomore\nSodome and G0m0re\n"
     ]
    }
   ],
   "source": [
    "text = \"S0d0me and G0m0re\"\n",
    "\n",
    "print(text.replace(\"0\", \"o\"))  # tüm 0 ları o yaptı (varsayılan index no: -1 dir)\n",
    "print(text.replace(\"0\", \"o\", -1))  # tüm 0 ları o yaptı\n",
    "\n",
    "print(text.replace(\"0\", \"o\", 2)) # 2nci 0' a kadarki 0 ları o yaptı\n",
    "\n"
   ]
  },
  {
   "cell_type": "code",
   "execution_count": 30,
   "metadata": {},
   "outputs": [
    {
     "output_type": "stream",
     "name": "stdout",
     "text": [
      "Bu bir denemedir\n"
     ]
    }
   ],
   "source": [
    "# strip metodu: sağ ve soldan kontrol ederek parantez içinde yazılı değerleri siler\n",
    "\n",
    "ornek = \"   Bu bir denemedir  \"\n",
    "\n",
    "print(ornek.strip()) # sona ve başa bakar. parantez içine değer yazılmadığı için default olarak boşluk alır ve boşlukları siler"
   ]
  },
  {
   "cell_type": "code",
   "execution_count": 32,
   "metadata": {},
   "outputs": [
    {
     "output_type": "stream",
     "name": "stdout",
     "text": [
      "teroperabilit\nteroperabilit\n"
     ]
    }
   ],
   "source": [
    "ornek = \"interoperability\"\n",
    "print(ornek.strip(\"yin\")) # başta \"in\" yi ve sonda \"y\" harfini siler\n",
    "print(ornek.strip(\"niy\")) # sonuç aynıdır. çünkü teke tek karakter olarak arar ve bulduklarını silerek döndürür."
   ]
  },
  {
   "cell_type": "code",
   "execution_count": 33,
   "metadata": {},
   "outputs": [
    {
     "output_type": "stream",
     "name": "stdout",
     "text": [
      "teroperability\n"
     ]
    }
   ],
   "source": [
    "# lstrip metodu: başa bakar parantez içine değer yazılmadığı için default olarak boşluk alır ve boşlukları siler\n",
    "ornek = \"interoperability\"\n",
    "print(ornek.lstrip(\"yin\")) # başa bakar  \"in\" yi siler"
   ]
  },
  {
   "cell_type": "code",
   "execution_count": 34,
   "metadata": {},
   "outputs": [
    {
     "output_type": "stream",
     "name": "stdout",
     "text": [
      "interoperabilit\n"
     ]
    }
   ],
   "source": [
    "# rstrip metodu: başa bakar parantez içine değer yazılmadığı için default olarak boşluk alır ve boşlukları siler\n",
    "ornek = \"interoperability\"\n",
    "print(ornek.rstrip(\"yin\")) # sonda \"y\" harfini siler. \"in\" karakterleri sonda olmadığı için işlem yapmadı"
   ]
  },
  {
   "cell_type": "code",
   "execution_count": 37,
   "metadata": {},
   "outputs": [
    {
     "output_type": "stream",
     "name": "stdout",
     "text": [
      "YOU CAN LEARN ALMOST EVERYTHING IN PRE-CLASS\nYOU CAN LEARN ALMOST EVERYTHING IN PRE-CLASS\n"
     ]
    }
   ],
   "source": [
    "# TASK: Cümlenin başı ve sonundaki fazlalıkları sil ve cümlenin tümünü büyük harfe çevirerek yazdır.\n",
    "\n",
    "text = \"tyou can learn almost everything in pre-classz\"\n",
    "text = text.strip(\"tz\")\n",
    "\n",
    "print(text.upper())\n",
    "\n",
    "print(text.strip(\"tz\").upper())\n"
   ]
  },
  {
   "cell_type": "code",
   "execution_count": 42,
   "metadata": {},
   "outputs": [
    {
     "output_type": "stream",
     "name": "stdout",
     "text": [
      "In God we Trust\nIn God We Trust\n"
     ]
    }
   ],
   "source": [
    "#TASK: \"In God wee Trust\" cümlesinde wee kelimesindeki ikinci \"e\"den kurtulun\n",
    "\n",
    "text = \"In God wee Trust\"\n",
    "\n",
    "print(text.replace(\"e\", \"\", 1)) # dizindeki ilk \"e\" yerine \"\" yap\n",
    "\n",
    "print(text.replace(\"ee\", \"e\").title()) # çift \"ee\" yi \"e\" yaptı ve \"w\" harfini \"W\" yaptı"
   ]
  },
  {
   "cell_type": "code",
   "execution_count": null,
   "metadata": {},
   "outputs": [],
   "source": []
  }
 ]
}