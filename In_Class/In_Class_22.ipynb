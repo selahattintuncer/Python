{
 "metadata": {
  "language_info": {
   "codemirror_mode": {
    "name": "ipython",
    "version": 3
   },
   "file_extension": ".py",
   "mimetype": "text/x-python",
   "name": "python",
   "nbconvert_exporter": "python",
   "pygments_lexer": "ipython3",
   "version": "3.9.2"
  },
  "orig_nbformat": 2,
  "kernelspec": {
   "name": "python392jvsc74a57bd08aa71f66831ae3a9c893a3b058ea0ed6f85404695a12d9a8794cb7bab518847e",
   "display_name": "Python 3.9.2 64-bit"
  },
  "metadata": {
   "interpreter": {
    "hash": "8aa71f66831ae3a9c893a3b058ea0ed6f85404695a12d9a8794cb7bab518847e"
   }
  }
 },
 "nbformat": 4,
 "nbformat_minor": 2,
 "cells": [
  {
   "cell_type": "code",
   "execution_count": 1,
   "metadata": {},
   "outputs": [
    {
     "output_type": "stream",
     "name": "stdout",
     "text": [
      "The error message is :  name 'c' is not defined\n"
     ]
    }
   ],
   "source": [
    "try :\n",
    "    a = 10\n",
    "    b = 2\n",
    "    print(\"The result of division is :\", c)\n",
    "except Exception as e:\n",
    "    print(\"The error message is : \", e)"
   ]
  },
  {
   "cell_type": "code",
   "execution_count": 2,
   "metadata": {},
   "outputs": [
    {
     "output_type": "stream",
     "name": "stdout",
     "text": [
      "benim favori meyvem mango'dir.'\n"
     ]
    }
   ],
   "source": [
    "fruits = [\"banana\", \"mango\", \"pear\", \"apple\", \"kiwi\", \"grape\"]\n",
    "\n",
    "while True :\n",
    "\n",
    "    try:\n",
    "        index = int(input(\"Favoro meyve indexini gir :\"))\n",
    "        print(f\"benim favori meyvem {fruits[index]}'dir.'\")\n",
    "        break\n",
    "\n",
    "    except IndexError:\n",
    "        print(\"Böyle bir index yok\")\n",
    "    \n",
    "    except ValueError:\n",
    "        print(\"Numerik bir değer gir\")\n"
   ]
  },
  {
   "cell_type": "code",
   "execution_count": 8,
   "metadata": {},
   "outputs": [
    {
     "output_type": "stream",
     "name": "stdout",
     "text": [
      "Böyle bir index yok. 2 hakkın kaldı.\n",
      "Tüm meyvelerimiz tazedir\n",
      "Numerik bir değer gir. 1 hakkın kaldı.\n",
      "Tüm meyvelerimiz tazedir\n",
      "Böyle bir index yok. 0 hakkın kaldı.\n",
      "Tüm meyvelerimiz tazedir\n"
     ]
    }
   ],
   "source": [
    "fruits = [\"banana\", \"mango\", \"pear\", \"apple\", \"kiwi\", \"grape\"]\n",
    "n = 3\n",
    "while n > 0 :\n",
    "    \n",
    "    try:\n",
    "        index = int(input(\"Favoro meyve indexini gir :\"))\n",
    "        print(f\"benim favori meyvem {fruits[index]}'dir.'\")\n",
    "        break\n",
    "\n",
    "    except IndexError:\n",
    "        n -= 1\n",
    "        print(f\"Böyle bir index yok. {n} hakkın kaldı.\")\n",
    "    \n",
    "    except ValueError:\n",
    "        n -= 1\n",
    "        print(f\"Numerik bir değer gir. {n} hakkın kaldı.\")\n",
    "    \n",
    "    else:\n",
    "        print(\"tebrikler doğru giriş\")\n",
    "        break\n",
    "    \n",
    "    finally:\n",
    "        print(\"Tüm meyvelerimiz tazedir\")"
   ]
  },
  {
   "cell_type": "code",
   "execution_count": 17,
   "metadata": {},
   "outputs": [
    {
     "output_type": "stream",
     "name": "stdout",
     "text": [
      "Orca is a kind of Dolphin.\n\nBlue Whale is the largest animal known on earth.\n\nSharks are the sister group to the Rays (batoids).\n\nThe Tuna Fish can weigh up to 260 kg.\n\nSquid and Octopus are in the same class.\n\n"
     ]
    }
   ],
   "source": [
    "file = open(\"fishes.txt\", \"r\")\n",
    "\n",
    "print(file.read())\n",
    "\n",
    "file.close()"
   ]
  },
  {
   "cell_type": "code",
   "execution_count": 12,
   "metadata": {},
   "outputs": [
    {
     "output_type": "stream",
     "name": "stdout",
     "text": [
      "I want to sing\nLike the birds sing,\nNot worrying about\nWho hears or\nWhat they think.\n"
     ]
    }
   ],
   "source": [
    "file = open(\"rumi.txt\", \"r\")\n",
    "\n",
    "print(file.read())\n",
    "\n",
    "file.close()"
   ]
  },
  {
   "cell_type": "code",
   "execution_count": 18,
   "metadata": {},
   "outputs": [
    {
     "output_type": "stream",
     "name": "stdout",
     "text": [
      "I want to sing\nLike the birds sing,\n\nNot worrying\n50\nLike the birds sing,\n\n"
     ]
    }
   ],
   "source": [
    "file = open(\"rumi.txt\", \"r\")\n",
    "\n",
    "print(file.read(35))\n",
    "print(file.read(13))\n",
    "print(file.tell())\n",
    "file.seek(16)\n",
    "print(file.readline())\n",
    "\n",
    "file.close()"
   ]
  },
  {
   "cell_type": "code",
   "execution_count": 24,
   "metadata": {},
   "outputs": [
    {
     "output_type": "stream",
     "name": "stdout",
     "text": [
      "Orca is a kin\nd of Dolphin.\n\n\nBlue Whale is\n the largest \n"
     ]
    }
   ],
   "source": [
    "file = open(\"fishes.txt\", \"r\")\n",
    "\n",
    "print(file.readline(13))\n",
    "print(file.readline(13))\n",
    "print(file.readline(13))\n",
    "print(file.readline(13))\n",
    "print(file.readline(13))\n",
    "file.close()"
   ]
  },
  {
   "cell_type": "code",
   "execution_count": 31,
   "metadata": {},
   "outputs": [
    {
     "output_type": "stream",
     "name": "stdout",
     "text": [
      "I want to sing\n\nLike the birds sing,\n\nNot worrying about\n\n"
     ]
    }
   ],
   "source": [
    "file = open(\"rumi.txt\", \"r\")\n",
    "\n",
    "print(file.readline())\n",
    "print(file.readline())\n",
    "print(file.readline(19))\n",
    "\n",
    "file.close()"
   ]
  },
  {
   "cell_type": "code",
   "execution_count": 32,
   "metadata": {},
   "outputs": [
    {
     "output_type": "stream",
     "name": "stdout",
     "text": [
      "I want to sing\n\nLike the birds sing,\n\nNot worrying about\n\nWho hears or\n\nWhat they think.\n"
     ]
    }
   ],
   "source": [
    "file = open(\"rumi.txt\", \"r\")\n",
    "\n",
    "for line in file:\n",
    "    print(line)\n",
    "\n",
    "file.close()"
   ]
  },
  {
   "cell_type": "code",
   "execution_count": 33,
   "metadata": {},
   "outputs": [
    {
     "output_type": "stream",
     "name": "stdout",
     "text": [
      "I want to sing\n\nLike the birds sing,\n\nNot worrying about\n\nWho hears or\n\nWhat they think.\n"
     ]
    }
   ],
   "source": [
    "file = open(\"rumi.txt\", \"r\")\n",
    "\n",
    "for line in file.readlines():\n",
    "    print(line)\n",
    "\n",
    "file.close()"
   ]
  },
  {
   "cell_type": "code",
   "execution_count": 35,
   "metadata": {},
   "outputs": [
    {
     "output_type": "stream",
     "name": "stdout",
     "text": [
      "I want to sing\nLike the birds sing,\n\nNot worrying\n50\nLike the birds sing,\n\n"
     ]
    }
   ],
   "source": [
    "with open(\"rumi.txt\", \"r\") as file:\n",
    "\n",
    "    print(file.read(35))\n",
    "    print(file.read(13))\n",
    "    print(file.tell())\n",
    "    file.seek(16)\n",
    "    print(file.readline())"
   ]
  },
  {
   "cell_type": "code",
   "execution_count": 40,
   "metadata": {},
   "outputs": [
    {
     "output_type": "stream",
     "name": "stdout",
     "text": [
      "bu benim ilk satırım.\n"
     ]
    }
   ],
   "source": [
    "with open(\"benim_ilk_dosyam.txt\", \"w\", encoding=\"utf-8\") as dosyam:\n",
    "    dosyam.write(\"bu benim ilk satırım.\")\n",
    "\n",
    "with open(\"benim_ilk_dosyam.txt\", \"r\", encoding=\"utf-8\") as dosyam:\n",
    "    print(dosyam.read())"
   ]
  },
  {
   "cell_type": "code",
   "execution_count": 46,
   "metadata": {},
   "outputs": [
    {
     "output_type": "stream",
     "name": "stdout",
     "text": [
      "bu benim ilk satırım.\nbu benim ikinci satırım.\nbu benim üçüncü satırım.\nbu benim ilk satırım.\nbu benim ikinci satırım.\nbu benim üçüncü satırım.\nbu benim ilk satırım.\nbu benim ikinci satırım.\nbu benim üçüncü satırım.\n\n"
     ]
    }
   ],
   "source": [
    "with open(\"benim_ilk_dosyam.txt\", \"a\", encoding=\"utf-8\") as dosyam:\n",
    "    dosyam.write(\"bu benim ilk satırım.\\nbu benim ikinci satırım.\\nbu benim üçüncü satırım.\\n\")\n",
    "\n",
    "with open(\"benim_ilk_dosyam.txt\", \"r\", encoding=\"utf-8\") as dosyam:\n",
    "    print(dosyam.read())"
   ]
  },
  {
   "cell_type": "code",
   "execution_count": null,
   "metadata": {},
   "outputs": [],
   "source": []
  }
 ]
}