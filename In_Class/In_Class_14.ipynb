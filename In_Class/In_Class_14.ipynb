{
 "metadata": {
  "language_info": {
   "codemirror_mode": {
    "name": "ipython",
    "version": 3
   },
   "file_extension": ".py",
   "mimetype": "text/x-python",
   "name": "python",
   "nbconvert_exporter": "python",
   "pygments_lexer": "ipython3",
   "version": "3.7.8-final"
  },
  "orig_nbformat": 2,
  "kernelspec": {
   "name": "python378jvsc74a57bd057baa5815c940fdaff4d14510622de9616cae602444507ba5d0b6727c008cbd6",
   "display_name": "Python 3.7.8 64-bit"
  },
  "metadata": {
   "interpreter": {
    "hash": "57baa5815c940fdaff4d14510622de9616cae602444507ba5d0b6727c008cbd6"
   }
  }
 },
 "nbformat": 4,
 "nbformat_minor": 2,
 "cells": [
  {
   "cell_type": "code",
   "execution_count": 6,
   "metadata": {},
   "outputs": [
    {
     "output_type": "stream",
     "name": "stdout",
     "text": [
      "B-\n"
     ]
    }
   ],
   "source": [
    "num = int(input(\"Enter your note :\"))\n",
    "if num >= 95:\n",
    "    print(\"A+\")\n",
    "elif num < 95:\n",
    "    if num >= 90:\n",
    "        print(\"A\")\n",
    "    elif num < 90:\n",
    "        if num >= 85:\n",
    "            print(\"B+\")\n",
    "        elif num < 85:\n",
    "            if num >= 80:\n",
    "                print(\"B\")\n",
    "            elif num < 80:\n",
    "                print(\"B-\")\n"
   ]
  },
  {
   "cell_type": "code",
   "execution_count": 10,
   "metadata": {},
   "outputs": [
    {
     "output_type": "stream",
     "name": "stdout",
     "text": [
      "Great! You entered valid age : 45\n"
     ]
    }
   ],
   "source": [
    "age = input(\"Enter your age : \")\n",
    "while not age.isdigit() :\n",
    "    print(\"You entered incorrectly!\")\n",
    "    age = input(\"Enter your age correctly please : \")\n",
    "print(\"Great! You entered valid age :\", age)"
   ]
  },
  {
   "cell_type": "code",
   "execution_count": 13,
   "metadata": {},
   "outputs": [
    {
     "output_type": "stream",
     "name": "stdout",
     "text": [
      "Tebrikler sayıyı bildiniz\n"
     ]
    }
   ],
   "source": [
    "number = \"40\"\n",
    "ques = input(\"please enter a number\")\n",
    "\n",
    "if ques < number:\n",
    "    print(\"Girdiğiniz sayı küçük\")\n",
    "elif ques > number:\n",
    "    print(\"Girdiğiniz sayı büyük\")\n",
    "else:\n",
    "    print(\"Tebrikler sayıyı bildiniz\")\n"
   ]
  },
  {
   "cell_type": "code",
   "execution_count": null,
   "metadata": {},
   "outputs": [],
   "source": []
  }
 ]
}