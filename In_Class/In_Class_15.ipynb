{
 "metadata": {
  "language_info": {
   "codemirror_mode": {
    "name": "ipython",
    "version": 3
   },
   "file_extension": ".py",
   "mimetype": "text/x-python",
   "name": "python",
   "nbconvert_exporter": "python",
   "pygments_lexer": "ipython3",
   "version": "3.7.8"
  },
  "orig_nbformat": 2,
  "kernelspec": {
   "name": "python378jvsc74a57bd057baa5815c940fdaff4d14510622de9616cae602444507ba5d0b6727c008cbd6",
   "display_name": "Python 3.7.8 64-bit"
  },
  "metadata": {
   "interpreter": {
    "hash": "57baa5815c940fdaff4d14510622de9616cae602444507ba5d0b6727c008cbd6"
   }
  }
 },
 "nbformat": 4,
 "nbformat_minor": 2,
 "cells": [
  {
   "cell_type": "code",
   "execution_count": 8,
   "metadata": {},
   "outputs": [
    {
     "output_type": "stream",
     "name": "stdout",
     "text": [
      "['yine', 'bezmi', 'çemane']\nThe lengh of the longest word is :  6\n"
     ]
    }
   ],
   "source": [
    "sentence = input(\"please enter a sentence\")\n",
    "\n",
    "words = sentence.split()\n",
    "print(words)\n",
    "i = 0\n",
    "longest= 0\n",
    "while i < len(words):\n",
    "    if len(words[i]) > longest:\n",
    "        longest = len(words[i])\n",
    "        i += 1\n",
    "print(\"The lengh of the longest word is : \", longest)"
   ]
  },
  {
   "cell_type": "code",
   "execution_count": 10,
   "metadata": {},
   "outputs": [
    {
     "output_type": "stream",
     "name": "stdout",
     "text": [
      "12345"
     ]
    }
   ],
   "source": [
    "for i in [1, 2, 3, 4, 5]:\n",
    "    print(i, end = \"\")"
   ]
  },
  {
   "cell_type": "code",
   "execution_count": 11,
   "metadata": {},
   "outputs": [
    {
     "output_type": "stream",
     "name": "stdout",
     "text": [
      "Hello! Ahmed\nHello! Aisha\nHello! Adam\nHello! Joseph\n"
     ]
    }
   ],
   "source": [
    "names = [\"Ahmed\", \"Aisha\", \"Adam\", \"Joseph\"]\n",
    "for i in names:\n",
    "    print(\"Hello!\", i)"
   ]
  },
  {
   "cell_type": "code",
   "execution_count": 18,
   "metadata": {},
   "outputs": [
    {
     "output_type": "stream",
     "name": "stdout",
     "text": [
      "[1, 2, 3, 4, 5]\n"
     ]
    }
   ],
   "source": [
    "numbers = []\n",
    "for i in range(1,6):\n",
    "    numbers.append(i)\n",
    "print(numbers)"
   ]
  },
  {
   "cell_type": "code",
   "execution_count": 21,
   "metadata": {},
   "outputs": [
    {
     "output_type": "stream",
     "name": "stdout",
     "text": [
      "c\nl\na\nr\nu\ns\nw\na\ny\n"
     ]
    }
   ],
   "source": [
    "course = \"clarusway\"\n",
    "\n",
    "for i in course:\n",
    "        print(i)"
   ]
  },
  {
   "cell_type": "code",
   "execution_count": 22,
   "metadata": {},
   "outputs": [
    {
     "output_type": "stream",
     "name": "stdout",
     "text": [
      "s-e-l-a-h-a-t-t-i-n"
     ]
    }
   ],
   "source": [
    "word = input(\"Please enter a word\")\n",
    "count = 0\n",
    "for i in word:\n",
    "    count += 1\n",
    "    if count < len(word):\n",
    "        i = i + \"-\"\n",
    "    print(i, end = \"\")"
   ]
  },
  {
   "cell_type": "code",
   "execution_count": 25,
   "metadata": {},
   "outputs": [
    {
     "output_type": "stream",
     "name": "stdout",
     "text": [
      "Selahattin\ntuncer\n47\n"
     ]
    }
   ],
   "source": [
    "user = {\"adı\" : \"Selahattin\",\n",
    "\"soyadı\" : \"tuncer\", \"yaş\" : 47}\n",
    "\n",
    "for i in user.values():\n",
    "    print(i)"
   ]
  },
  {
   "cell_type": "code",
   "execution_count": 51,
   "metadata": {},
   "outputs": [
    {
     "output_type": "stream",
     "name": "stdout",
     "text": [
      "adı : Selahattin\nsoyadı : tuncer\nyaş : 47\n"
     ]
    }
   ],
   "source": [
    "user = {\"adı\" : \"Selahattin\",\n",
    "\"soyadı\" : \"tuncer\", \"yaş\" : 47}\n",
    "\n",
    "for key, value in user.items():\n",
    "    print(key, \":\", value)"
   ]
  },
  {
   "cell_type": "code",
   "execution_count": 53,
   "metadata": {},
   "outputs": [
    {
     "output_type": "stream",
     "name": "stdout",
     "text": [
      "ali : 33\nveli : 23\nayşe : 12\n"
     ]
    }
   ],
   "source": [
    "isimler = {\"ali\" : 33,\n",
    "        \"veli\" : 23,\n",
    "        \"ayşe\" : 12}\n",
    "for a, b in isimler.items():\n",
    "    print(a, \":\", b)"
   ]
  },
  {
   "cell_type": "code",
   "execution_count": 37,
   "metadata": {},
   "outputs": [
    {
     "output_type": "stream",
     "name": "stdout",
     "text": [
      "İğne 6 numaralı indexte.\n"
     ]
    }
   ],
   "source": [
    "samanlık = [\"yumurta\", \"yaba\", \"inek\", \"saman\", \"tezek\", \"tırmık\", \"iğne\"]\n",
    "print(f\"İğne {samanlık.index('iğne')} numaralı indexte.\")\n"
   ]
  },
  {
   "cell_type": "code",
   "execution_count": 38,
   "metadata": {},
   "outputs": [
    {
     "output_type": "stream",
     "name": "stdout",
     "text": [
      "five 5 True\n"
     ]
    }
   ],
   "source": [
    "# Tuple kullanarak çoklu değer assign etmek\n",
    "\n",
    "v = (\"five\", 5, True)\n",
    "(x, y, z) = v\n",
    "print(x, y, z)"
   ]
  },
  {
   "cell_type": "code",
   "execution_count": 41,
   "metadata": {},
   "outputs": [
    {
     "output_type": "stream",
     "name": "stdout",
     "text": [
      "1\n"
     ]
    }
   ],
   "source": [
    "(monday, tuesday, wednesday, thursday, friday, saturday, sunday) = tuple(range(1,8))\n",
    "\n",
    "print(monday)"
   ]
  },
  {
   "cell_type": "code",
   "execution_count": 43,
   "metadata": {},
   "outputs": [
    {
     "output_type": "stream",
     "name": "stdout",
     "text": [
      "[1, 2, 3, 4, '11', '22', 33]\n"
     ]
    }
   ],
   "source": [
    "# + operatörü ile iki listeyi birleştirme\n",
    "print([1, 2, 3, 4] + [\"11\", \"22\", 33])"
   ]
  },
  {
   "cell_type": "code",
   "execution_count": 45,
   "metadata": {},
   "outputs": [
    {
     "output_type": "execute_result",
     "data": {
      "text/plain": [
       "(1, 2, [1, 3, 5, 4])"
      ]
     },
     "metadata": {},
     "execution_count": 45
    }
   ],
   "source": [
    "tt = (1, 2, [1, 3, 5])\n",
    "tt[2].append(4)\n",
    "tt"
   ]
  },
  {
   "cell_type": "code",
   "execution_count": 46,
   "metadata": {},
   "outputs": [
    {
     "output_type": "stream",
     "name": "stdout",
     "text": [
      "10\n20\n"
     ]
    }
   ],
   "source": [
    "x, y = (10, 20)\n",
    "print(x)\n",
    "print(y)\n"
   ]
  },
  {
   "cell_type": "code",
   "execution_count": null,
   "metadata": {},
   "outputs": [],
   "source": [
    "a, _, b,_ = (10, 20, 30, 40) # Alt tireler jenerik yerine geçer. listedeki elemanlarının hepsini değişkene atamak istemediğimde kullanılır. Hafızadan yer kazanır. Hayali değişkendirler."
   ]
  },
  {
   "cell_type": "code",
   "execution_count": 47,
   "metadata": {},
   "outputs": [
    {
     "output_type": "stream",
     "name": "stdout",
     "text": [
      "11\n22\n[22, 33, 44, 55, 66]\n"
     ]
    }
   ],
   "source": [
    "x, y, *z = (11, 22, 22, 33, 44, 55, 66) # burada * kalan elamanların hepsini tek değişkene atar. Başına yıldız koyunca çoklu değer alır.\n",
    "print(x)\n",
    "print(y)\n",
    "print(z)"
   ]
  },
  {
   "cell_type": "code",
   "execution_count": 49,
   "metadata": {},
   "outputs": [
    {
     "output_type": "stream",
     "name": "stdout",
     "text": [
      "66\n"
     ]
    }
   ],
   "source": [
    "x, y, *z, t = (11, 22, 22, 33, 44, 55, 66) # byurada t en son elemanı alır.\n",
    "\n",
    "print(t)"
   ]
  },
  {
   "cell_type": "code",
   "execution_count": null,
   "metadata": {},
   "outputs": [],
   "source": []
  }
 ]
}