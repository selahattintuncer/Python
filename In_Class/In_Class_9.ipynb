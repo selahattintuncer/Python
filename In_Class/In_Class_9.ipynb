{
 "metadata": {
  "language_info": {
   "codemirror_mode": {
    "name": "ipython",
    "version": 3
   },
   "file_extension": ".py",
   "mimetype": "text/x-python",
   "name": "python",
   "nbconvert_exporter": "python",
   "pygments_lexer": "ipython3",
   "version": "3.9.2-final"
  },
  "orig_nbformat": 2,
  "kernelspec": {
   "name": "python3",
   "display_name": "Python 3.9.2 64-bit",
   "metadata": {
    "interpreter": {
     "hash": "8aa71f66831ae3a9c893a3b058ea0ed6f85404695a12d9a8794cb7bab518847e"
    }
   }
  }
 },
 "nbformat": 4,
 "nbformat_minor": 2,
 "cells": [
  {
   "cell_type": "code",
   "execution_count": 17,
   "metadata": {},
   "outputs": [
    {
     "output_type": "stream",
     "name": "stdout",
     "text": [
      "['h', 'a', 'p', 'p', 'y']\n['h', 'a', 'p', 'p', 'y']\n"
     ]
    }
   ],
   "source": [
    "List_1 = [\"h\", \"a\", \"p\", \"p\", \"y\"]\n",
    "word = \"happy\"\n",
    "List_2 = list(word)\n",
    "print(List_1)\n",
    "print(List_2)"
   ]
  },
  {
   "cell_type": "code",
   "execution_count": 15,
   "metadata": {},
   "outputs": [
    {
     "output_type": "stream",
     "name": "stdout",
     "text": [
      "['1', '2', '3']\n"
     ]
    }
   ],
   "source": [
    "word = \"123\"\n",
    "aa = list(word)\n",
    "print(aa)\n"
   ]
  },
  {
   "cell_type": "code",
   "execution_count": 16,
   "metadata": {},
   "outputs": [
    {
     "output_type": "stream",
     "name": "stdout",
     "text": [
      "['Joseph', 'Clarusway', 2020]\n3\n[['Joseph', 'Clarusway', 2020]]\n1\n"
     ]
    }
   ],
   "source": [
    "my_list = ['Joseph', 'Clarusway', 2020]\n",
    "new_list1 = list(my_list)  #\n",
    "new_list2 = [my_list]  \n",
    "\n",
    "\n",
    "print(new_list1)\n",
    "print(len(new_list1)) \n",
    "print(new_list2)\n",
    "print(len(new_list2))"
   ]
  },
  {
   "cell_type": "code",
   "execution_count": 28,
   "metadata": {},
   "outputs": [
    {
     "output_type": "stream",
     "name": "stdout",
     "text": [
      "['ali', 'ayse']\n2\n[['ali', 'ayse']]\n1\n"
     ]
    }
   ],
   "source": [
    "a = [\"ali\", \"ayse\"]\n",
    "print(a)\n",
    "print(len(a))\n",
    "\n",
    "b = [a]\n",
    "print(b)\n",
    "print(len(b))\n"
   ]
  },
  {
   "cell_type": "code",
   "execution_count": 29,
   "metadata": {},
   "outputs": [
    {
     "output_type": "stream",
     "name": "stdout",
     "text": [
      "['2', '0', '2', '0', \"'\", 's', ' ', 'h', 'a', 'r', 'd']\n[\"2020's hard\"]\n"
     ]
    }
   ],
   "source": [
    "word = \"2020's hard\"\n",
    "List_1 = list(word) # string içindeki tüm elemanları ayırır\n",
    "List_2 = [word] # köşeli parantez olduğu için stringi tek bir eleman olark alır. Parçalamaz.\n",
    "print(List_1)\n",
    "print(List_2)\n"
   ]
  },
  {
   "cell_type": "code",
   "execution_count": null,
   "metadata": {},
   "outputs": [],
   "source": [
    "List = []\n",
    "List.append(666) # Boş list e 666 ekledi\n",
    "List.append('Multiverse') #Mevcut List'e string ekledi. List iki elemanlı oldu\n",
    "List.append([0])  # Mevcut List'e içinde 0 olan bir list ekledi. List üç lemanlı oldu\n",
    "\n",
    "print(List)\n"
   ]
  },
  {
   "cell_type": "code",
   "execution_count": 30,
   "metadata": {},
   "outputs": [
    {
     "output_type": "stream",
     "name": "stdout",
     "text": [
      "[1, 2, 3, 4]\n"
     ]
    }
   ],
   "source": [
    "List = []\n",
    "List.append(1)\n",
    "List.append(2)\n",
    "List.append(3)\n",
    "List.append(4)\n",
    "\n",
    "print(List)\n"
   ]
  },
  {
   "cell_type": "code",
   "execution_count": null,
   "metadata": {},
   "outputs": [],
   "source": [
    "List = []\n",
    "List.append(1)\n",
    "List.append(2)\n",
    "List.append(3)\n",
    "List.append(4)"
   ]
  },
  {
   "cell_type": "code",
   "execution_count": 31,
   "metadata": {},
   "outputs": [
    {
     "output_type": "execute_result",
     "data": {
      "text/plain": [
       "[1, 3, 5, 7, 9]"
      ]
     },
     "metadata": {},
     "execution_count": 31
    }
   ],
   "source": [
    "numbers = [1,3,7,9]\n",
    "numbers.insert(2, 5)\n",
    "numbers"
   ]
  },
  {
   "cell_type": "code",
   "execution_count": 37,
   "metadata": {},
   "outputs": [
    {
     "output_type": "stream",
     "name": "stdout",
     "text": [
      "['Antep', 'Sivas', 'Tokyo']\n['Antep', 'S', 'i', 'v', 'a', 's']\n['Antep', 'Sivas']\n"
     ]
    }
   ],
   "source": [
    "city = [\"Antep\", \"Kayseri\", \"Tokyo\"]\n",
    "city[1] = \"Sivas\"\n",
    "print(city)\n",
    "city[1:] = \"Sivas\"\n",
    "print(city)\n",
    "city[1:] = [\"Sivas\"]\n",
    "print(city)"
   ]
  },
  {
   "cell_type": "code",
   "execution_count": 39,
   "metadata": {},
   "outputs": [
    {
     "output_type": "execute_result",
     "data": {
      "text/plain": [
       "[True, 'beriot', 'tokyo']"
      ]
     },
     "metadata": {},
     "execution_count": 39
    }
   ],
   "source": [
    "city = [\"los\", \"beriot\", \"tokyo\"]\n",
    "city[0] = True\n",
    "city"
   ]
  },
  {
   "cell_type": "code",
   "execution_count": 41,
   "metadata": {},
   "outputs": [
    {
     "output_type": "execute_result",
     "data": {
      "text/plain": [
       "[True, 'i', 's', 't', 'a', 'n', 'b', 'u', 'l']"
      ]
     },
     "metadata": {},
     "execution_count": 41
    }
   ],
   "source": [
    "city[1:] = \"istanbul\" #elemanlara ayırıp index 1 den sonuna kadar ekler.\n",
    "city"
   ]
  },
  {
   "cell_type": "code",
   "execution_count": 42,
   "metadata": {},
   "outputs": [
    {
     "output_type": "execute_result",
     "data": {
      "text/plain": [
       "[True, 'istanbul', 'seul']"
      ]
     },
     "metadata": {},
     "execution_count": 42
    }
   ],
   "source": [
    "city[1:] = \"istanbul\", \"seul\" # iki lemanlı olduğu için lemenlara ayırmadan 1 nci indexten sonuna kadar ekleme yapar, b\n",
    "city\n"
   ]
  },
  {
   "cell_type": "code",
   "execution_count": 47,
   "metadata": {},
   "outputs": [
    {
     "output_type": "stream",
     "name": "stdout",
     "text": [
      "['a', 'b', 'erzurum', 'ankara']\n['ab', 'erzurum', 'ankara']\n['a', 'b', 'c', 'd', 'ankara']\n"
     ]
    }
   ],
   "source": [
    "city1 = [\"istanbul\", \"yozgat\", \"erzurum\", \"ankara\"]\n",
    "\n",
    "city1[0:2] = [\"a\", \"b\"] # = ncı ve 1nci indexdeki elemanların yerine eleman atar\n",
    "print(city1)\n",
    "\n",
    "city1[0:2] = [\"ab\"] # iki elemanlı string olduğu için parçalar parça parça olarak yazılı olan indexle yer değiştirir\n",
    "print(city1)\n",
    "\n",
    "city1[0:2] = [\"a\", \"b\", \"c\", \"d\"] # dört tane stringi alır ve 0 ve 1 nci indexi siler onun yerine kor.\n",
    "print(city1)\n"
   ]
  },
  {
   "cell_type": "code",
   "execution_count": 53,
   "metadata": {},
   "outputs": [
    {
     "output_type": "stream",
     "name": "stdout",
     "text": [
      "\\\\\n\\\\\n"
     ]
    }
   ],
   "source": [
    "print(\"\\\\\\\\\")\n",
    "print(r\"\\\\\")"
   ]
  },
  {
   "cell_type": "code",
   "execution_count": 54,
   "metadata": {},
   "outputs": [
    {
     "output_type": "stream",
     "name": "stdout",
     "text": [
      "3 + 4'ün toplamı 7'dir.\n"
     ]
    }
   ],
   "source": [
    "a = 3\n",
    "b = 4\n",
    "print(\"{} + {}'ün toplamı {}'dir.\".format(a, b, a+b))"
   ]
  },
  {
   "cell_type": "code",
   "execution_count": 57,
   "metadata": {},
   "outputs": [
    {
     "output_type": "stream",
     "name": "stdout",
     "text": [
      "3.15, 5.367, 7.3246\n"
     ]
    }
   ],
   "source": [
    "text = \"{:.2f}, {:.3f}, {:.4f}\".format(3.1463, 5.367, 7.324567) # süslü parantez içinde : kullanılrsa : den sonra yazılan .2f ondalık sayıdan 2 hane, .3f ise ondalıktan 3 hane getirir. Getirirken yuvarlama yapar.\n",
    "print(text)"
   ]
  },
  {
   "cell_type": "code",
   "execution_count": 58,
   "metadata": {},
   "outputs": [
    {
     "output_type": "stream",
     "name": "stdout",
     "text": [
      "3., 5.3, 7.32\n"
     ]
    }
   ],
   "source": [
    "text = \"{:.2s}, {:.3s}, {:.4s}\".format(\"3.1463\", \"5.367\", \"7.324567\") # süslü parantez içinde : kullanılrsa : den sonra yazılan .2s stringten 2 karakter , .3s ise stringten 3 karakter.\n",
    "print(text)"
   ]
  },
  {
   "cell_type": "code",
   "execution_count": 59,
   "metadata": {},
   "outputs": [
    {
     "output_type": "stream",
     "name": "stdout",
     "text": [
      "           clarusway\n"
     ]
    }
   ],
   "source": [
    "text = \"{:>20}\".format(\"clarusway\")  # yirmi karakterlik alan içerisinde sağa yaslar. clarusway =9 karakter + 11 karakter boşluk ekler.\n",
    "print(text)"
   ]
  },
  {
   "cell_type": "code",
   "execution_count": 64,
   "metadata": {},
   "outputs": [
    {
     "output_type": "stream",
     "name": "stdout",
     "text": [
      "clarusway           \n"
     ]
    }
   ],
   "source": [
    "text = \"{:<20}\".format(\"clarusway\")  # yirmi karakterlik alan içerisinde sola yaslar. clarusway =9 karakter + 11 karakter boşluk ekler.\n",
    "print(text)"
   ]
  },
  {
   "cell_type": "code",
   "execution_count": 62,
   "metadata": {},
   "outputs": [
    {
     "output_type": "stream",
     "name": "stdout",
     "text": [
      "formatlama       test formatlama\n"
     ]
    }
   ],
   "source": [
    "text1 = \"formatlama {:>10} formatlama\".format(\"test\")\n",
    "print(text1)"
   ]
  },
  {
   "cell_type": "code",
   "execution_count": 63,
   "metadata": {},
   "outputs": [
    {
     "output_type": "stream",
     "name": "stdout",
     "text": [
      "test       formatlama\n"
     ]
    }
   ],
   "source": [
    "text2 = \"{:<10} formatlama\".format(\"test\")\n",
    "print(text2)"
   ]
  },
  {
   "cell_type": "code",
   "execution_count": 66,
   "metadata": {},
   "outputs": [
    {
     "output_type": "stream",
     "name": "stdout",
     "text": [
      "formatlama         test         formatlama\n"
     ]
    }
   ],
   "source": [
    "text3 = \"formatlama {:^20} formatlama\".format(\"test\")  # 20 karakter içerisinde test kelimesini ortalayarak yazar\n",
    "print(text3)"
   ]
  },
  {
   "cell_type": "code",
   "execution_count": 67,
   "metadata": {},
   "outputs": [
    {
     "output_type": "execute_result",
     "data": {
      "text/plain": [
       "'hippo'"
      ]
     },
     "metadata": {},
     "execution_count": 67
    }
   ],
   "source": [
    "\"{:.5}\".format(\"hippopotamus\")  # baştan 5 karakter aldı"
   ]
  },
  {
   "cell_type": "code",
   "execution_count": 71,
   "metadata": {},
   "outputs": [
    {
     "output_type": "execute_result",
     "data": {
      "text/plain": [
       "'hip       '"
      ]
     },
     "metadata": {},
     "execution_count": 71
    }
   ],
   "source": [
    "\"{:10.3}\".format(\"hippopotamus\") # 10 karakterlik boşluk naçar oraya 3 karakter getirir"
   ]
  },
  {
   "cell_type": "code",
   "execution_count": 72,
   "metadata": {},
   "outputs": [
    {
     "output_type": "execute_result",
     "data": {
      "text/plain": [
       "'       hip'"
      ]
     },
     "metadata": {},
     "execution_count": 72
    }
   ],
   "source": [
    "\"{:>10.3}\".format(\"hippopotamus\") # 10 karakterlik boşluk naçar oraya 3 karakter getirir ve sağa yaslar"
   ]
  },
  {
   "cell_type": "code",
   "execution_count": null,
   "metadata": {},
   "outputs": [],
   "source": []
  }
 ]
}