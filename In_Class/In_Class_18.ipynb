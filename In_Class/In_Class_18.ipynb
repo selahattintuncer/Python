{
 "metadata": {
  "language_info": {
   "codemirror_mode": {
    "name": "ipython",
    "version": 3
   },
   "file_extension": ".py",
   "mimetype": "text/x-python",
   "name": "python",
   "nbconvert_exporter": "python",
   "pygments_lexer": "ipython3",
   "version": "3.9.2"
  },
  "orig_nbformat": 2,
  "kernelspec": {
   "name": "python392jvsc74a57bd08aa71f66831ae3a9c893a3b058ea0ed6f85404695a12d9a8794cb7bab518847e",
   "display_name": "Python 3.9.2 64-bit"
  },
  "metadata": {
   "interpreter": {
    "hash": "8aa71f66831ae3a9c893a3b058ea0ed6f85404695a12d9a8794cb7bab518847e"
   }
  }
 },
 "nbformat": 4,
 "nbformat_minor": 2,
 "cells": [
  {
   "cell_type": "code",
   "execution_count": 1,
   "metadata": {},
   "outputs": [
    {
     "output_type": "stream",
     "name": "stdout",
     "text": [
      "Only 4 math operations\n"
     ]
    }
   ],
   "source": [
    "def calculator(a, b, opr) :\n",
    "    if opr == '+' :\n",
    "        return(a + b)\n",
    "    elif opr == '-' :\n",
    "        return(a - b)\n",
    "    elif opr == '*' :\n",
    "        return(a * b)\n",
    "    elif opr == '/' :\n",
    "        return(a / b)\n",
    "    else :\n",
    "        return('Only 4 math operations')\n",
    "a = int(input(\"please enter a number\"))\n",
    "opr = str(input(\"please enter math operation\"))\n",
    "b = int(input(\"please enter a number\"))\n",
    "print(calculator(a, b, opr))"
   ]
  },
  {
   "cell_type": "code",
   "execution_count": 18,
   "metadata": {},
   "outputs": [
    {
     "output_type": "stream",
     "name": "stdout",
     "text": [
      "False\nTrue\nTrue\n"
     ]
    }
   ],
   "source": [
    "# Bir string içerisinde ki sesli harfleri bulmak için fonksiyon:\n",
    "\n",
    "vowels = [\"a\", \"e\", \"i\", \"o\", \"u\"]\n",
    "\n",
    "def filterVowels(letter):       # filterVowels isminde fonksiyon tanımlanıyor\n",
    "    \n",
    "    if letter.lower() in vowels:  # letter değişkenine atanan girdinin vowels list inde olup olmadığına bakılıyor. Varsa True yoksa False dönderiyor\n",
    "        return True\n",
    "    else:\n",
    "        return False\n",
    "\n",
    "print(filterVowels(\"b\"))\n",
    "print(filterVowels(\"u\"))\n",
    "print(filterVowels(\"U\"))"
   ]
  },
  {
   "cell_type": "code",
   "execution_count": 6,
   "metadata": {},
   "outputs": [
    {
     "output_type": "stream",
     "name": "stdout",
     "text": [
      "e a u a i e e\n"
     ]
    }
   ],
   "source": [
    "sentence = \"the clarusway is the best.\"\n",
    "\n",
    "filtered_vowels = filter(filterVowels, sentence)  # Burada yukarıda tanımladığımız filterVowels fonksiyonunu filter fonksiyonu içerisinde kullandık. Parantez içerisindeki ilk argüman olan fonksiyon ikinci argümandaki string elemanları içerisinden sesli olanları döndürüyor. \n",
    "\n",
    "print(*filtered_vowels)"
   ]
  },
  {
   "cell_type": "code",
   "execution_count": 13,
   "metadata": {},
   "outputs": [
    {
     "output_type": "stream",
     "name": "stdout",
     "text": [
      "\nThis function returns the absolute value of the entered number\n    \n11\n"
     ]
    }
   ],
   "source": [
    "def absolute(num):\n",
    "    \"\"\"\n",
    "This function returns the absolute value of the entered number\n",
    "    \"\"\"\n",
    "    if num >= 0 :\n",
    "        return num\n",
    "    else:\n",
    "        return -num\n",
    "\n",
    "print(absolute.__doc__)\n",
    "\n",
    "print(absolute(-11))\n"
   ]
  },
  {
   "cell_type": "code",
   "execution_count": 14,
   "metadata": {},
   "outputs": [
    {
     "output_type": "stream",
     "name": "stdout",
     "text": [
      "3 is the first argument\n4 is the second argument\n\n4 is the first argument\n3 is the second argument\n"
     ]
    }
   ],
   "source": [
    "def pos_args(a, b):\n",
    "    print(a, 'is the first argument')\n",
    "    print(b, 'is the second argument')\n",
    "\n",
    "pos_args(3,4)\n",
    "print()\n",
    "pos_args(4,3)"
   ]
  },
  {
   "cell_type": "code",
   "execution_count": 17,
   "metadata": {},
   "outputs": [
    {
     "output_type": "stream",
     "name": "stdout",
     "text": [
      "i love you\n"
     ]
    }
   ],
   "source": [
    "def texter(x, y, z):\n",
    "    print(f\"{x} {y} {z}\")\n",
    "\n",
    "texter(\"i\", \"love\", \"you\")"
   ]
  },
  {
   "cell_type": "code",
   "execution_count": 21,
   "metadata": {},
   "outputs": [
    {
     "output_type": "stream",
     "name": "stdout",
     "text": [
      "i love you\n"
     ]
    }
   ],
   "source": [
    "def texter(x, y, z):\n",
    "    print(f\"{x} {y} {z}\")\n",
    "\n",
    "texter(y = \"love\", z = \"you\", x = \"i\" ) # keywor kullanıldığında sıralamanın önemi yok."
   ]
  },
  {
   "cell_type": "code",
   "execution_count": 24,
   "metadata": {},
   "outputs": [
    {
     "output_type": "stream",
     "name": "stdout",
     "text": [
      "ali is 33 years old.\nali is 55 years old.\n"
     ]
    }
   ],
   "source": [
    "# fonksiyon defoult değerli tanımlama\n",
    "def default(a= \"ali\", b = 33):\n",
    "    print(f\"{a} is {b} years old.\")\n",
    "\n",
    "default()  # parantez içi boş olduğu için defaılu değer gelir.\n",
    "\n",
    "default(b = 55) # burada b argümanı keyword ile değiştirildi, a yazılmadığı için default değeri döner"
   ]
  },
  {
   "source": [
    "def default(c, a= \"ali\", b = 33):\n",
    "    print(f\"{c} and {a} is {b} years old.\")\n",
    "default(\"Sellow\")"
   ],
   "cell_type": "code",
   "metadata": {},
   "execution_count": 2,
   "outputs": [
    {
     "output_type": "stream",
     "name": "stdout",
     "text": [
      "Sellow and ali is 33 years old.\n"
     ]
    }
   ]
  },
  {
   "cell_type": "code",
   "execution_count": 10,
   "metadata": {},
   "outputs": [
    {
     "output_type": "stream",
     "name": "stdout",
     "text": [
      "even list  [0, 2, 4, 6, 8]\nodd list  [1, 3, 5, 7, 9]\n"
     ]
    }
   ],
   "source": [
    "def slicer(*numbers):\n",
    "    even_list = []\n",
    "    odd_list = []\n",
    "    for i in numbers:\n",
    "        if i % 2 == 0:\n",
    "           even_list.append(i)\n",
    "        else:\n",
    "            odd_list.append(i)\n",
    "    print(\"even list \", even_list)\n",
    "    print(\"odd list \", odd_list)\n",
    "slicer(0,1,2,3,4,5,6,7,8,9)"
   ]
  },
  {
   "source": [
    "def slicer(*num):\n",
    "    print(\"evens: \", [i for i in num if i%2 == 0])  #list comparison\n",
    "    print(\"odds: \", [i for i in num if not i%2 == 0])\n",
    "\n",
    "slicer(0,1,2,3,4,5,6,7,8,9)"
   ],
   "cell_type": "code",
   "metadata": {},
   "execution_count": 9,
   "outputs": [
    {
     "output_type": "stream",
     "name": "stdout",
     "text": [
      "evens:  [0, 2, 4, 6, 8]\nodds:  [1, 3, 5, 7, 9]\n"
     ]
    }
   ]
  },
  {
   "cell_type": "code",
   "execution_count": 12,
   "metadata": {},
   "outputs": [
    {
     "output_type": "stream",
     "name": "stdout",
     "text": [
      "ahmet : bacanak\nmehmet : ağabey\nceyda : Baldız\n"
     ]
    }
   ],
   "source": [
    "def sözlük(**a):\n",
    "    for key, value in a.items():\n",
    "        print(key, \":\", value)\n",
    "\n",
    "sözlük(ahmet = \"bacanak\", mehmet = \"ağabey\", ceyda = \"Baldız\")"
   ]
  },
  {
   "cell_type": "code",
   "execution_count": 13,
   "metadata": {},
   "outputs": [
    {
     "output_type": "stream",
     "name": "stdout",
     "text": [
      "Beth : 26\nOscar : 42\nJustin : 18\nFrank : 33\n"
     ]
    }
   ],
   "source": [
    "def organizer(**names):\n",
    "    for key, value in names.items():\n",
    "        print(key, \":\", value)\n",
    "\n",
    "organizer(Beth = 26, Oscar = 42, Justin = 18, Frank = 33)"
   ]
  },
  {
   "cell_type": "code",
   "execution_count": 26,
   "metadata": {},
   "outputs": [
    {
     "output_type": "stream",
     "name": "stdout",
     "text": [
      "['Beth', 'Oscar', 'Justin', 'Frank']\n[26, 42, 18, 33]\n"
     ]
    }
   ],
   "source": [
    "def organizer(**names):\n",
    "    print([i for i in names.keys()]) \n",
    "    print([i for i in names.values()])\n",
    "\n",
    "organizer(Beth = 26, Oscar = 42, Justin = 18, Frank = 33)"
   ]
  },
  {
   "cell_type": "code",
   "execution_count": 24,
   "metadata": {},
   "outputs": [
    {
     "output_type": "stream",
     "name": "stdout",
     "text": [
      "['Beth', 'Oscar', 'Justin', 'Frank']\n[26, 42, 18, 33]\n"
     ]
    }
   ],
   "source": [
    "keys = []\n",
    "values = []\n",
    "def organizer(**liste):\n",
    "    keys = [i for i in liste.keys()]\n",
    "    values = [i for i in liste.values()]\n",
    "    print(keys)\n",
    "    print(values)\n",
    "\n",
    "organizer(Beth = 26, Oscar = 42, Justin = 18, Frank = 33)"
   ]
  },
  {
   "cell_type": "code",
   "execution_count": null,
   "metadata": {},
   "outputs": [],
   "source": []
  }
 ]
}