{
 "metadata": {
  "language_info": {
   "codemirror_mode": {
    "name": "ipython",
    "version": 3
   },
   "file_extension": ".py",
   "mimetype": "text/x-python",
   "name": "python",
   "nbconvert_exporter": "python",
   "pygments_lexer": "ipython3",
   "version": "3.9.2"
  },
  "orig_nbformat": 2,
  "kernelspec": {
   "name": "python392jvsc74a57bd08aa71f66831ae3a9c893a3b058ea0ed6f85404695a12d9a8794cb7bab518847e",
   "display_name": "Python 3.9.2 64-bit"
  },
  "metadata": {
   "interpreter": {
    "hash": "8aa71f66831ae3a9c893a3b058ea0ed6f85404695a12d9a8794cb7bab518847e"
   }
  }
 },
 "nbformat": 4,
 "nbformat_minor": 2,
 "cells": [
  {
   "cell_type": "code",
   "execution_count": 5,
   "metadata": {},
   "outputs": [
    {
     "output_type": "stream",
     "name": "stdout",
     "text": [
      "['Banana\\n', 'Orange\\n', 'Apple\\n', 'Strawberry\\n', 'Cherry\\n']\n\n"
     ]
    }
   ],
   "source": [
    "fruits = ['Banana', 'Orange', 'Apple', 'Strawberry', 'Cherry']\n",
    "\n",
    "with open(\"fruits.txt\", \"w\", encoding=\"utf-8\") as file:\n",
    "    for fruit in fruits:\n",
    "        file.write(fruit +\"\\n\")\n",
    "\n",
    "\n",
    "with open(\"fruits.txt\", \"r\", encoding=\"utf-8\") as file:\n",
    "    # print(file.readlines())\n",
    "    print(file.read())\n",
    "    "
   ]
  },
  {
   "cell_type": "code",
   "execution_count": 6,
   "metadata": {},
   "outputs": [
    {
     "output_type": "stream",
     "name": "stdout",
     "text": [
      "Jasmine\n\nRose\n\nLily\n\nDaisy\n\nTulip\n\n\n"
     ]
    }
   ],
   "source": [
    "flowers = ['Jasmine', 'Rose', 'Lily', 'Daisy', 'Tulip']\n",
    "\n",
    "with open(\"flowers.txt\", \"w\", encoding=\"utf-8\") as file:\n",
    "    for flower in flowers:\n",
    "        file.write(flower +\"\\n\\n\")\n",
    "with open(\"flowers.txt\", \"r\", encoding=\"utf-8\") as file:\n",
    "    print(file.read())"
   ]
  },
  {
   "cell_type": "code",
   "execution_count": 8,
   "metadata": {},
   "outputs": [
    {
     "output_type": "stream",
     "name": "stdout",
     "text": [
      "Jasmine\nRose\nLily\nDaisy\nTulip\n\n"
     ]
    }
   ],
   "source": [
    "flowers = ['Jasmine\\n', 'Rose\\n', 'Lily\\n', 'Daisy\\n', 'Tulip\\n']\n",
    "with open(\"flowers.txt\", \"w\", encoding=\"utf-8\") as file:\n",
    "    file.writelines(flowers)\n",
    "\n",
    "with open(\"flowers.txt\", \"r\", encoding=\"utf-8\") as file:\n",
    "    print(file.read())"
   ]
  },
  {
   "source": [
    "fruits = ['Banana', 'Orange', 'Apple', 'Strawberry', 'Cherry']\n",
    "\n",
    "with open(\"fruits.txt\", \"w\", encoding=\"utf-8\") as file:\n",
    "    for fruit in fruits:\n",
    "        file.write(fruit +\"\\n\")\n",
    "\n",
    "with open(\"fruits.txt\", \"r\", encoding=\"utf-8\") as file:\n",
    "    print(file.read())\n",
    "\n",
    "with open(\"fruits.txt\", \"a\", encoding=\"utf-8\") as file:\n",
    "    file.write(\"melon\")\n",
    "\n",
    "with open(\"fruits.txt\", \"r\", encoding=\"utf-8\") as file:\n",
    "    print(file.read())  "
   ],
   "cell_type": "code",
   "metadata": {},
   "execution_count": 9,
   "outputs": [
    {
     "output_type": "stream",
     "name": "stdout",
     "text": [
      "Banana\nOrange\nApple\nStrawberry\nCherry\n\nBanana\nOrange\nApple\nStrawberry\nCherry\nmelon\n"
     ]
    }
   ]
  },
  {
   "cell_type": "code",
   "execution_count": 10,
   "metadata": {},
   "outputs": [
    {
     "output_type": "execute_result",
     "data": {
      "text/plain": [
       "'d:\\\\GDrive_Fiji\\\\ITF\\\\Python\\\\In_Class'"
      ]
     },
     "metadata": {},
     "execution_count": 10
    }
   ],
   "source": [
    "pwd"
   ]
  },
  {
   "cell_type": "code",
   "execution_count": 35,
   "metadata": {},
   "outputs": [
    {
     "output_type": "stream",
     "name": "stdout",
     "text": [
      "Korkma, sönmez bu şafaklarda yüzen al sancak;\nSönmeden yurdumun üstünde tüten en son ocak.\nO benim milletimin yıldızıdır, parlayacak;\nO benimdir, o benim milletimindir ancak.\n\nÇatma, kurban olayım, çehreni ey nazlı hilal!\nKahraman ırkıma bir gül! Ne bu şiddet, bu celal?\nSana olmaz dökülen kanlarımız sonra helal...\nHakkıdır, hakk'a tapan, milletimin istiklal!\n\nBen ezelden beridir hür yaşadım, hür yaşarım.\nHangi çılgın bana zincir vuracakmış? Şaşarım!\nKükremiş sel gibiyim, bendimi çiğner, aşarım.\nYırtarım dağları, enginlere sığmam, taşarım.\n\nGarbın afakını sarmışsa çelik zırhlı duvar,\nBenim iman dolu göğsüm gibi serhaddim var.\nUlusun, korkma! Nasıl böyle bir imanı boğar,\n'Medeniyet!' dediğin tek dişi kalmış canavar?\n\nArkadaş! Yurduma alçakları uğratma, sakın.\nSiper et gövdeni, dursun bu hayasızca akın.\nDoğacaktır sana va'dettigi günler hakk'ın...\nKim bilir, belki yarın, belki yarından da yakın.\n\nBastığın yerleri 'toprak!' diyerek geçme, tanı:\nDüşün altında binlerce kefensiz yatanı.\nSen şehit oğlusun, incitme, yazıktır, atanı:\nVerme, dünyaları alsan da, bu cennet vatanı.\n\nKim bu cennet vatanın uğruna olmaz ki feda?\nŞuheda fışkıracak toprağı sıksan, şuheda!\nCanı, cananı, bütün varımı alsın da hüda,\nEtmesin tek vatanımdan beni dünyada cüda.\n\nRuhumun senden, ilahi, şudur ancak emeli:\nDeğmesin mabedimin göğsüne namahrem eli.\nBu ezanlar-ki şahadetleri dinin temeli,\nEbedi yurdumun üstünde benim inlemeli.\n\n"
     ]
    }
   ],
   "source": [
    "with open(\"istiklal.txt\", encoding=\"utf-8\") as f:\n",
    "    lines = f.readlines()\n",
    "\n",
    "counter = 0\n",
    "with open(\"istiklal.txt\", \"w\", encoding=\"utf-8\") as f:\n",
    "    for i in lines :\n",
    "        counter += 1\n",
    "        if counter % 4 == 0:\n",
    "            f.write(i + \"\\n\")\n",
    "        else:\n",
    "            f.write(i)\n",
    "\n",
    "with open(\"istiklal.txt\", \"r\", encoding=\"utf-8\") as f:\n",
    "   print(f.read())\n"
   ]
  },
  {
   "cell_type": "code",
   "execution_count": 36,
   "metadata": {},
   "outputs": [
    {
     "output_type": "stream",
     "name": "stdout",
     "text": [
      "dict_keys([1, 2])\n"
     ]
    }
   ],
   "source": [
    "word = {1: \"1\", 2: \"2\"}\n",
    "\n",
    "keys = word.keys()\n",
    "print(keys)"
   ]
  },
  {
   "cell_type": "code",
   "execution_count": 37,
   "metadata": {},
   "outputs": [
    {
     "output_type": "stream",
     "name": "stdout",
     "text": [
      "{'b': 6, 'i': 2, 'r': 6, ' ': 3, 'e': 5, ',': 1, \"'\": 1, '.': 1}\n"
     ]
    }
   ],
   "source": [
    "string = \"bir berber, bir'e berber.\"\n",
    "\n",
    "word_dict = {}\n",
    "\n",
    "for n in string:\n",
    "    keys = word_dict.keys()\n",
    "    if n in keys:\n",
    "        word_dict[n] += 1\n",
    "    else:\n",
    "        word_dict[n] = 1\n",
    "print(word_dict)"
   ]
  },
  {
   "cell_type": "code",
   "execution_count": 1,
   "metadata": {},
   "outputs": [
    {
     "output_type": "stream",
     "name": "stdout",
     "text": [
      "{\"'\": 1, 'e': 5, '.': 1, 'b': 6, ' ': 3, ',': 1, 'i': 2, 'r': 6}\n"
     ]
    }
   ],
   "source": [
    "#İSMAİLİN ÇÖZÜMÜ\n",
    "sentence = \"bir berber, bir'e berber.\"\n",
    "x = set(sentence)\n",
    "y = list(map(sentence.count,x))\n",
    "print(dict(zip(x,y)))\n"
   ]
  },
  {
   "cell_type": "code",
   "execution_count": 40,
   "metadata": {},
   "outputs": [
    {
     "output_type": "stream",
     "name": "stdout",
     "text": [
      "{'int': 2, 'str': 3, 'bool': 1, 'list': 1, 'tuple': 1, 'dict': 2, 'set': 1}\n"
     ]
    }
   ],
   "source": [
    "veri = [\"a\", \"b\", True, (False, 1), {\"1\": 2}, [1,2], {\"2\": \"two\"}, {2,\"3\"}, \"c\", 23, 0]\n",
    "types = [\"int\", \"str\", \"bool\", \"list\", \"tuple\",\"dict\", \"set\"]\n",
    "toplam = {}.fromkeys(types,0)\n",
    "\n",
    "for i in range(len(veri)) :\n",
    "    if type(veri[i]) == int: toplam[\"int\"] += 1\n",
    "    elif type(veri[i]) == str: toplam[\"str\"] += 1\n",
    "    elif type(veri[i]) == bool: toplam[\"bool\"] += 1\n",
    "    elif type(veri[i]) == list: toplam[\"list\"] += 1\n",
    "    elif type(veri[i]) == tuple: toplam[\"tuple\"] += 1\n",
    "    elif type(veri[i]) == dict: toplam[\"dict\"] += 1\n",
    "    elif type(veri[i]) == set: toplam[\"set\"] += 1\n",
    "\n",
    "\n",
    "print(toplam)"
   ]
  },
  {
   "cell_type": "code",
   "execution_count": 2,
   "metadata": {},
   "outputs": [
    {
     "output_type": "stream",
     "name": "stdout",
     "text": [
      "{'int': 2, 'dict': 2, 'tuple': 1, 'list': 1, 'set': 1, 'str': 3, 'bool': 1}\n"
     ]
    }
   ],
   "source": [
    "#İSMAİLİN ÇÖZÜMÜ\n",
    "veri = ['a','b', True, (False,1), {'1':2}, [1,2], {'2': 'two'}, {2,'3'}, 'c', 23, 0]\n",
    "type_list = []\n",
    "type_dict = {}\n",
    "for i in veri:\n",
    "    type_list.append(type(i))\n",
    "for j in set(type_list):\n",
    "    type_dict[(str(j).strip(\"<>class \")).strip(\"'\")] = type_list.count(j)\n",
    "print(type_dict)"
   ]
  },
  {
   "cell_type": "code",
   "execution_count": 3,
   "metadata": {},
   "outputs": [
    {
     "output_type": "stream",
     "name": "stdout",
     "text": [
      "{<class 'str'>: 3, <class 'bool'>: 1, <class 'tuple'>: 1, <class 'dict'>: 2, <class 'list'>: 1, <class 'set'>: 1, <class 'int'>: 2}\n"
     ]
    }
   ],
   "source": [
    "#SELMANIN ÇÖZÜMÜ\n",
    "veri = ['a','b', True, (False,1), {'1':2}, [1,2], {'2': 'two'}, {2,'3'}, 'c', 23, 0]\n",
    "tip = [type(i) for i in veri]\n",
    "tip_count = [tip.count(i) for i in tip]\n",
    "sözlük = dict(zip(tip, tip_count))\n",
    "print(sözlük)"
   ]
  },
  {
   "cell_type": "code",
   "execution_count": 43,
   "metadata": {},
   "outputs": [],
   "source": [
    "import glob"
   ]
  },
  {
   "cell_type": "code",
   "execution_count": 44,
   "metadata": {},
   "outputs": [
    {
     "output_type": "stream",
     "name": "stdout",
     "text": [
      "benim_ilk_dosyam.txt\nfishes.txt\nflowers.txt\nfruits.txt\nistiklal.txt\nistiklal2.txt\nrumi.txt\n"
     ]
    }
   ],
   "source": [
    "for file in glob.glob(\"*.txt\"):\n",
    "    print(file)\n"
   ]
  },
  {
   "cell_type": "code",
   "execution_count": 45,
   "metadata": {},
   "outputs": [],
   "source": [
    "import shutil"
   ]
  },
  {
   "cell_type": "code",
   "execution_count": 47,
   "metadata": {},
   "outputs": [
    {
     "output_type": "execute_result",
     "data": {
      "text/plain": [
       "'../rumi_yeni.txt'"
      ]
     },
     "metadata": {},
     "execution_count": 47
    }
   ],
   "source": [
    "shutil.copy(\"rumi.txt\", \"../rumi_yeni.txt\")"
   ]
  },
  {
   "cell_type": "code",
   "execution_count": null,
   "metadata": {},
   "outputs": [],
   "source": [
    "def my_factorial(n):\n",
    "    if n == 0: return 1\n",
    "    else:\n",
    "        return n * my_factorial(n-1)\n",
    "print(my_factorial(10000))"
   ]
  },
  {
   "cell_type": "code",
   "execution_count": null,
   "metadata": {},
   "outputs": [],
   "source": []
  },
  {
   "cell_type": "code",
   "execution_count": null,
   "metadata": {},
   "outputs": [],
   "source": []
  }
 ]
}