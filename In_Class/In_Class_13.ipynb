{
 "metadata": {
  "language_info": {
   "codemirror_mode": {
    "name": "ipython",
    "version": 3
   },
   "file_extension": ".py",
   "mimetype": "text/x-python",
   "name": "python",
   "nbconvert_exporter": "python",
   "pygments_lexer": "ipython3",
   "version": "3.7.8-final"
  },
  "orig_nbformat": 2,
  "kernelspec": {
   "name": "python378jvsc74a57bd057baa5815c940fdaff4d14510622de9616cae602444507ba5d0b6727c008cbd6",
   "display_name": "Python 3.7.8 64-bit"
  },
  "metadata": {
   "interpreter": {
    "hash": "57baa5815c940fdaff4d14510622de9616cae602444507ba5d0b6727c008cbd6"
   }
  }
 },
 "nbformat": 4,
 "nbformat_minor": 2,
 "cells": [
  {
   "cell_type": "code",
   "execution_count": 4,
   "metadata": {},
   "outputs": [
    {
     "output_type": "stream",
     "name": "stdout",
     "text": [
      "{'a'}\n{'a'}\n{'c'}\n{'c'}\n"
     ]
    }
   ],
   "source": [
    "a = {'a', 'b'}\n",
    "b = {'b', 'c'}\n",
    "print(a - b) # a fark b\n",
    "print(a.difference(b))  # a fark b\n",
    "print(b - a)  # b fark a\n",
    "print(b.difference(a))  # b fark a\n",
    "\n"
   ]
  },
  {
   "cell_type": "code",
   "execution_count": 5,
   "metadata": {},
   "outputs": [
    {
     "output_type": "stream",
     "name": "stdout",
     "text": [
      "{'b'}\n{'b'}\n"
     ]
    }
   ],
   "source": [
    "a = {'a', 'b'}\n",
    "b = {'b', 'c'}\n",
    "\n",
    "print(a & b)\n",
    "print(a.intersection(b)) "
   ]
  },
  {
   "cell_type": "code",
   "execution_count": 8,
   "metadata": {},
   "outputs": [
    {
     "output_type": "stream",
     "name": "stdout",
     "text": [
      "{'2', '4', '1', '/', '6', '0'}\n{'04/14/2021'}\n"
     ]
    }
   ],
   "source": [
    "date1 = set(\"06/14/2021\")\n",
    "print(date1)\n",
    "\n",
    "\n",
    "date2 = {'04/14/2021'}\n",
    "print(date2)"
   ]
  },
  {
   "cell_type": "code",
   "execution_count": 11,
   "metadata": {},
   "outputs": [
    {
     "output_type": "stream",
     "name": "stdout",
     "text": [
      "{1, 2, 3, 4, 5}\n"
     ]
    }
   ],
   "source": [
    "given_list = [1, 2, 3, 3, 3, 3, 4, 4, 5, 5]\n",
    "print(set(given_list))"
   ]
  },
  {
   "cell_type": "code",
   "execution_count": 19,
   "metadata": {},
   "outputs": [
    {
     "output_type": "stream",
     "name": "stdout",
     "text": [
      "{'i', 't', 'w', 'o', 'g', 'n'}\n{'l', 'e'}\n{'i', 'a', 'h', 'e', 't', 's', 'w', 'o', 'g', 'l', 'n'}\n"
     ]
    }
   ],
   "source": [
    "city1 = set(\"wellington\")\n",
    "city2 = set(\"wasghington\")\n",
    "\n",
    "print(city1.intersection(city2))  # kesişim\n",
    "print(city1.difference(city2))  #  fark\n",
    "print(city1.union(city2))  #birleşim"
   ]
  },
  {
   "cell_type": "code",
   "execution_count": null,
   "metadata": {},
   "outputs": [],
   "source": [
    "if condition:\n",
    "    body    # eğer condition True dönerse body ve body2 çalışır\n",
    "    body2\n",
    "body3  # if bloğunun dışında olduğu için her halükarda çalışır."
   ]
  },
  {
   "cell_type": "code",
   "execution_count": 20,
   "metadata": {},
   "outputs": [
    {
     "output_type": "stream",
     "name": "stdout",
     "text": [
      "is is True\n"
     ]
    }
   ],
   "source": [
    "if True:\n",
    "    print(\"it is True\")"
   ]
  },
  {
   "cell_type": "code",
   "execution_count": 21,
   "metadata": {},
   "outputs": [],
   "source": [
    "if False:\n",
    "    print(\"it is True\")"
   ]
  },
  {
   "cell_type": "code",
   "execution_count": 22,
   "metadata": {},
   "outputs": [
    {
     "output_type": "stream",
     "name": "stdout",
     "text": [
      "ben\n"
     ]
    }
   ],
   "source": [
    "if 1:   # None, 0 ve {} falsy idi, geriye kalanlar ise True olduğu için burada True döndü\n",
    "    print(\"ben\")"
   ]
  },
  {
   "cell_type": "code",
   "execution_count": 24,
   "metadata": {},
   "outputs": [],
   "source": [
    "if {}:   \n",
    "    print(\"ben\")"
   ]
  },
  {
   "cell_type": "code",
   "execution_count": 25,
   "metadata": {},
   "outputs": [
    {
     "output_type": "stream",
     "name": "stdout",
     "text": [
      "ben\n"
     ]
    }
   ],
   "source": [
    "if \"a\":   \n",
    "    print(\"ben\")"
   ]
  },
  {
   "cell_type": "code",
   "execution_count": 30,
   "metadata": {},
   "outputs": [
    {
     "output_type": "stream",
     "name": "stdout",
     "text": [
      "Bon Appetit\n"
     ]
    }
   ],
   "source": [
    "grocery_store = True\n",
    "minced_meat = True\n",
    "hamburger_bread = True\n",
    "lettuce = True\n",
    "pepper = True\n",
    "\n",
    "if grocery_store and minced_meat and hamburger_bread:\n",
    "    if lettuce or pepper:\n",
    "        print(\"Bon Appetit\")"
   ]
  },
  {
   "cell_type": "code",
   "execution_count": 33,
   "metadata": {},
   "outputs": [],
   "source": [
    "grocery_store = True\n",
    "minced_meat = True\n",
    "hamburger_bread = True\n",
    "lettuce = False\n",
    "pepper = False\n",
    "\n",
    "hamburger = (grocery_store and minced_meat and hamburger_bread) and (lettuce or pepper)\n",
    "if hamburger:\n",
    "    print(\"Bon Appetit\")"
   ]
  },
  {
   "cell_type": "code",
   "execution_count": 36,
   "metadata": {},
   "outputs": [
    {
     "output_type": "stream",
     "name": "stdout",
     "text": [
      "{'N', 'O', 'P', 'S', 'E', 'V', 'T', 'L', ' ', 'U', 'W'}\n{'N', 'O', 'P', 'S', 'E', 'L', 'V', 'T', ' ', 'U', 'W'}\nTrue\n"
     ]
    }
   ],
   "source": [
    "a = set('TWELVE PLUS ONE')\n",
    "b = set('ELEVEN PLUS TWO')\n",
    "print(a)\n",
    "print(b)\n",
    "\n",
    "print(a == b)"
   ]
  },
  {
   "cell_type": "code",
   "execution_count": null,
   "metadata": {},
   "outputs": [],
   "source": [
    "answer = input(\"Please enter YES or NO\")"
   ]
  }
 ]
}