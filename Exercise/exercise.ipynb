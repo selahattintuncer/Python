{
 "metadata": {
  "language_info": {
   "codemirror_mode": {
    "name": "ipython",
    "version": 3
   },
   "file_extension": ".py",
   "mimetype": "text/x-python",
   "name": "python",
   "nbconvert_exporter": "python",
   "pygments_lexer": "ipython3",
   "version": "3.7.8"
  },
  "orig_nbformat": 2,
  "kernelspec": {
   "name": "python378jvsc74a57bd057baa5815c940fdaff4d14510622de9616cae602444507ba5d0b6727c008cbd6",
   "display_name": "Python 3.7.8 64-bit"
  },
  "metadata": {
   "interpreter": {
    "hash": "57baa5815c940fdaff4d14510622de9616cae602444507ba5d0b6727c008cbd6"
   }
  }
 },
 "nbformat": 4,
 "nbformat_minor": 2,
 "cells": [
  {
   "cell_type": "code",
   "execution_count": 27,
   "metadata": {},
   "outputs": [
    {
     "output_type": "stream",
     "name": "stdout",
     "text": [
      "9\n8\n7\n6\n5\n4\n3\n2\n1\n"
     ]
    }
   ],
   "source": [
    "sayi = 123456789\n",
    "sayi_str = list(str(sayi))\n",
    "\n",
    "\n",
    "for i in (range(len(sayi_str), 0, -1)):\n",
    "    list_sayi = str(i)\n",
    "    print(list_sayi)\n",
    "\n"
   ]
  },
  {
   "cell_type": "code",
   "execution_count": 1,
   "metadata": {},
   "outputs": [
    {
     "output_type": "stream",
     "name": "stdout",
     "text": [
      "9\n"
     ]
    }
   ],
   "source": [
    "sayi1 = 123456789\n",
    "sayi2 = 0\n",
    "basamak_sayi = len(str(sayi1)) \n",
    "\n",
    "#print(len(str(sayi1)))\n",
    "\n",
    "for i in range(basamak_sayi):\n",
    "    kalan = sayi1 % 10\n",
    "    #sayi2 *= 10\n",
    "    sayi2 += kalan\n",
    "    sayi1_yeni = (sayi1 - kalan) / 10\n",
    "\n",
    "print(kalan)\n"
   ]
  },
  {
   "cell_type": "code",
   "execution_count": 2,
   "metadata": {},
   "outputs": [
    {
     "output_type": "stream",
     "name": "stdout",
     "text": [
      "\n Sayının Ters Çevrilmiş Hali = 987654321\n"
     ]
    }
   ],
   "source": [
    "sayi = int(input(\"Sayıyı Gir : \"))\n",
    "ters = 0\n",
    "while(sayi > 0):\n",
    "    gecici = sayi %10\n",
    "    ters = (ters *10) + gecici\n",
    "    sayi = sayi //10\n",
    "print(\"\\n Sayının Ters Çevrilmiş Hali = %d\" %ters)"
   ]
  },
  {
   "cell_type": "code",
   "execution_count": null,
   "metadata": {},
   "outputs": [],
   "source": []
  }
 ]
}