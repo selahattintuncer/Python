{
 "metadata": {
  "language_info": {
   "codemirror_mode": {
    "name": "ipython",
    "version": 3
   },
   "file_extension": ".py",
   "mimetype": "text/x-python",
   "name": "python",
   "nbconvert_exporter": "python",
   "pygments_lexer": "ipython3",
   "version": "3.9.2"
  },
  "orig_nbformat": 2,
  "kernelspec": {
   "name": "python392jvsc74a57bd08aa71f66831ae3a9c893a3b058ea0ed6f85404695a12d9a8794cb7bab518847e",
   "display_name": "Python 3.9.2 64-bit"
  },
  "metadata": {
   "interpreter": {
    "hash": "8aa71f66831ae3a9c893a3b058ea0ed6f85404695a12d9a8794cb7bab518847e"
   }
  }
 },
 "nbformat": 4,
 "nbformat_minor": 2,
 "cells": [
  {
   "cell_type": "code",
   "execution_count": 27,
   "metadata": {},
   "outputs": [
    {
     "output_type": "stream",
     "name": "stdout",
     "text": [
      "9\n8\n7\n6\n5\n4\n3\n2\n1\n"
     ]
    }
   ],
   "source": [
    "sayi = 123456789\n",
    "sayi_str = list(str(sayi))\n",
    "\n",
    "\n",
    "for i in (range(len(sayi_str), 0, -1)):\n",
    "    list_sayi = str(i)\n",
    "    print(list_sayi)\n",
    "\n"
   ]
  },
  {
   "cell_type": "code",
   "execution_count": 1,
   "metadata": {},
   "outputs": [
    {
     "output_type": "stream",
     "name": "stdout",
     "text": [
      "9\n"
     ]
    }
   ],
   "source": [
    "sayi1 = 123456789\n",
    "sayi2 = 0\n",
    "basamak_sayi = len(str(sayi1)) \n",
    "\n",
    "#print(len(str(sayi1)))\n",
    "\n",
    "for i in range(basamak_sayi):\n",
    "    kalan = sayi1 % 10\n",
    "    #sayi2 *= 10\n",
    "    sayi2 += kalan\n",
    "    sayi1_yeni = (sayi1 - kalan) / 10\n",
    "\n",
    "print(kalan)\n"
   ]
  },
  {
   "cell_type": "code",
   "execution_count": 6,
   "metadata": {},
   "outputs": [
    {
     "output_type": "stream",
     "name": "stdout",
     "text": [
      "\n Sayının Ters Çevrilmiş Hali = 98765\n"
     ]
    }
   ],
   "source": [
    "sayi = int(input(\"Sayıyı Gir : \"))\n",
    "ters = 0\n",
    "while(sayi > 0):\n",
    "    gecici = sayi %10\n",
    "    ters = (ters *10) + gecici\n",
    "    sayi = sayi //10\n",
    "print(\"\\n Sayının Ters Çevrilmiş Hali = %d\" %ters)"
   ]
  },
  {
   "cell_type": "code",
   "execution_count": 1,
   "metadata": {},
   "outputs": [
    {
     "output_type": "stream",
     "name": "stdout",
     "text": [
      "The longer one of the names you have entered:Yıldırım\n"
     ]
    }
   ],
   "source": [
    "def longer(a, b):\n",
    "    if len(a) >= len(b):\n",
    "        return a\n",
    "    else:\n",
    "        return b\n",
    "\n",
    "name1 = input(\"Please enter one name\")\n",
    "name2 = input(\"Please enter one more name\")\n",
    "print(f\"The longer one of the names you have entered: {longer(name1, name2)}\")"
   ]
  },
  {
   "cell_type": "code",
   "execution_count": 1,
   "metadata": {},
   "outputs": [
    {
     "output_type": "stream",
     "name": "stdout",
     "text": [
      "96.8\n"
     ]
    }
   ],
   "source": [
    "celsius = int(input())\n",
    "\n",
    "def conv(c):\n",
    "    return 9/5 * celsius + 32\n",
    "    \n",
    "\n",
    "fahrenheit = conv(celsius)\n",
    "print(fahrenheit)"
   ]
  },
  {
   "cell_type": "code",
   "execution_count": 4,
   "metadata": {},
   "outputs": [
    {
     "output_type": "stream",
     "name": "stdout",
     "text": [
      "9\n"
     ]
    }
   ],
   "source": [
    "def max_num_two(x, y):\n",
    "    return x if x > y else y\n",
    "def max_num_tree(x, y, z):\n",
    "    return max_num_two(x, max_num_two(y,z))\n",
    "\n",
    "print(max_num_tree(6, 9, 3))\n"
   ]
  },
  {
   "cell_type": "code",
   "execution_count": 5,
   "metadata": {},
   "outputs": [
    {
     "output_type": "stream",
     "name": "stdout",
     "text": [
      "7\n"
     ]
    }
   ],
   "source": [
    "def max_num_two(x, y):\n",
    "    return x if x > y else y\n",
    "def max_num_tree(x, y, z, w):\n",
    "    return max_num_two(x, max_num_two(y, max_num_two(z, w)))\n",
    "\n",
    "print(max_num_tree(6, 2, 3, 7))\n"
   ]
  },
  {
   "cell_type": "code",
   "execution_count": null,
   "metadata": {},
   "outputs": [],
   "source": []
  }
 ]
}