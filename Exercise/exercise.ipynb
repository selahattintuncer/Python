{
 "metadata": {
  "language_info": {
   "codemirror_mode": {
    "name": "ipython",
    "version": 3
   },
   "file_extension": ".py",
   "mimetype": "text/x-python",
   "name": "python",
   "nbconvert_exporter": "python",
   "pygments_lexer": "ipython3",
   "version": "3.9.2"
  },
  "orig_nbformat": 2,
  "kernelspec": {
   "name": "python392jvsc74a57bd08aa71f66831ae3a9c893a3b058ea0ed6f85404695a12d9a8794cb7bab518847e",
   "display_name": "Python 3.9.2 64-bit"
  },
  "metadata": {
   "interpreter": {
    "hash": "8aa71f66831ae3a9c893a3b058ea0ed6f85404695a12d9a8794cb7bab518847e"
   }
  }
 },
 "nbformat": 4,
 "nbformat_minor": 2,
 "cells": [
  {
   "cell_type": "code",
   "execution_count": 99,
   "metadata": {},
   "outputs": [
    {
     "output_type": "stream",
     "name": "stdout",
     "text": [
      "9\n8\n7\n6\n5\n4\n3\n2\n1\n"
     ]
    }
   ],
   "source": [
    "sayi = 123456789\n",
    "sayi_str = list(str(sayi))\n",
    "\n",
    "\n",
    "for i in (range(len(sayi_str), 0, -1)):\n",
    "    list_sayi = str(i)\n",
    "    print(list_sayi)\n",
    "\n"
   ]
  },
  {
   "cell_type": "code",
   "execution_count": 100,
   "metadata": {},
   "outputs": [
    {
     "output_type": "stream",
     "name": "stdout",
     "text": [
      "9\n"
     ]
    }
   ],
   "source": [
    "sayi1 = 123456789\n",
    "sayi2 = 0\n",
    "basamak_sayi = len(str(sayi1)) \n",
    "\n",
    "#print(len(str(sayi1)))\n",
    "\n",
    "for i in range(basamak_sayi):\n",
    "    kalan = sayi1 % 10\n",
    "    #sayi2 *= 10\n",
    "    sayi2 += kalan\n",
    "    sayi1_yeni = (sayi1 - kalan) / 10\n",
    "\n",
    "print(kalan)\n"
   ]
  },
  {
   "cell_type": "code",
   "execution_count": 101,
   "metadata": {},
   "outputs": [
    {
     "output_type": "error",
     "ename": "ValueError",
     "evalue": "invalid literal for int() with base 10: ''",
     "traceback": [
      "\u001b[1;31m---------------------------------------------------------------------------\u001b[0m",
      "\u001b[1;31mValueError\u001b[0m                                Traceback (most recent call last)",
      "\u001b[1;32m<ipython-input-101-3842e908381a>\u001b[0m in \u001b[0;36m<module>\u001b[1;34m\u001b[0m\n\u001b[1;32m----> 1\u001b[1;33m \u001b[0msayi\u001b[0m \u001b[1;33m=\u001b[0m \u001b[0mint\u001b[0m\u001b[1;33m(\u001b[0m\u001b[0minput\u001b[0m\u001b[1;33m(\u001b[0m\u001b[1;34m\"Sayıyı Gir : \"\u001b[0m\u001b[1;33m)\u001b[0m\u001b[1;33m)\u001b[0m\u001b[1;33m\u001b[0m\u001b[1;33m\u001b[0m\u001b[0m\n\u001b[0m\u001b[0;32m      2\u001b[0m \u001b[0mters\u001b[0m \u001b[1;33m=\u001b[0m \u001b[1;36m0\u001b[0m\u001b[1;33m\u001b[0m\u001b[1;33m\u001b[0m\u001b[0m\n\u001b[0;32m      3\u001b[0m \u001b[1;32mwhile\u001b[0m\u001b[1;33m(\u001b[0m\u001b[0msayi\u001b[0m \u001b[1;33m>\u001b[0m \u001b[1;36m0\u001b[0m\u001b[1;33m)\u001b[0m\u001b[1;33m:\u001b[0m\u001b[1;33m\u001b[0m\u001b[1;33m\u001b[0m\u001b[0m\n\u001b[0;32m      4\u001b[0m     \u001b[0mgecici\u001b[0m \u001b[1;33m=\u001b[0m \u001b[0msayi\u001b[0m \u001b[1;33m%\u001b[0m\u001b[1;36m10\u001b[0m\u001b[1;33m\u001b[0m\u001b[1;33m\u001b[0m\u001b[0m\n\u001b[0;32m      5\u001b[0m     \u001b[0mters\u001b[0m \u001b[1;33m=\u001b[0m \u001b[1;33m(\u001b[0m\u001b[0mters\u001b[0m \u001b[1;33m*\u001b[0m\u001b[1;36m10\u001b[0m\u001b[1;33m)\u001b[0m \u001b[1;33m+\u001b[0m \u001b[0mgecici\u001b[0m\u001b[1;33m\u001b[0m\u001b[1;33m\u001b[0m\u001b[0m\n",
      "\u001b[1;31mValueError\u001b[0m: invalid literal for int() with base 10: ''"
     ]
    }
   ],
   "source": [
    "sayi = int(input(\"Sayıyı Gir : \"))\n",
    "ters = 0\n",
    "while(sayi > 0):\n",
    "    gecici = sayi %10\n",
    "    ters = (ters *10) + gecici\n",
    "    sayi = sayi //10\n",
    "print(\"\\n Sayının Ters Çevrilmiş Hali = %d\" %ters)"
   ]
  },
  {
   "cell_type": "code",
   "execution_count": 1,
   "metadata": {},
   "outputs": [
    {
     "output_type": "stream",
     "name": "stdout",
     "text": [
      "The longer one of the names you have entered:Yıldırım\n"
     ]
    }
   ],
   "source": [
    "def longer(a, b):\n",
    "    if len(a) >= len(b):\n",
    "        return a\n",
    "    else:\n",
    "        return b\n",
    "\n",
    "name1 = input(\"Please enter one name\")\n",
    "name2 = input(\"Please enter one more name\")\n",
    "print(f\"The longer one of the names you have entered: {longer(name1, name2)}\")"
   ]
  },
  {
   "cell_type": "code",
   "execution_count": 1,
   "metadata": {},
   "outputs": [
    {
     "output_type": "stream",
     "name": "stdout",
     "text": [
      "96.8\n"
     ]
    }
   ],
   "source": [
    "celsius = int(input())\n",
    "\n",
    "def conv(c):\n",
    "    return 9/5 * celsius + 32\n",
    "    \n",
    "\n",
    "fahrenheit = conv(celsius)\n",
    "print(fahrenheit)"
   ]
  },
  {
   "cell_type": "code",
   "execution_count": 4,
   "metadata": {},
   "outputs": [
    {
     "output_type": "stream",
     "name": "stdout",
     "text": [
      "9\n"
     ]
    }
   ],
   "source": [
    "def max_num_two(x, y):\n",
    "    return x if x > y else y\n",
    "def max_num_tree(x, y, z):\n",
    "    return max_num_two(x, max_num_two(y,z))\n",
    "\n",
    "print(max_num_tree(6, 9, 3))\n"
   ]
  },
  {
   "cell_type": "code",
   "execution_count": 4,
   "metadata": {},
   "outputs": [
    {
     "output_type": "stream",
     "name": "stdout",
     "text": [
      "9\n"
     ]
    }
   ],
   "source": [
    "def max_num_two(x, y):\n",
    "    return x if x > y else y\n",
    "def max_num_tree(x, y, z, w):\n",
    "    return max_num_two(x, max_num_two(y, max_num_two(z, w)))\n",
    "\n",
    "print(max_num_tree(6, 2, 3, 9))\n"
   ]
  },
  {
   "cell_type": "code",
   "execution_count": 52,
   "metadata": {},
   "outputs": [
    {
     "output_type": "stream",
     "name": "stdout",
     "text": [
      "20\n"
     ]
    }
   ],
   "source": [
    "def max_num(*x):\n",
    "    List = [*x]\n",
    "    max1 = List[0]\n",
    "    for i in range(1, len(List)) :\n",
    "        if List[i] > max1 :\n",
    "            max1 = List[i]\n",
    "    print(max1) \n",
    "max_num(1,2,3,4,9,17,2,3,16,20)"
   ]
  },
  {
   "source": [
    "- - - - - - - - - - - - - - - \n",
    "0  0  0  | 0  6  4  | 0  0  0  \n",
    "7  0  0  | 0  0  0  | 3  9  0  \n",
    "8  0  0  | 0  0  0  | 0  0  0  \n",
    "- - - - - - - - - - - - - - - \n",
    "0  0  0  | 5  0  2  | 0  6  0  \n",
    "0  8  0  | 4  0  0  | 0  0  0  \n",
    "3  5  0  | 6  0  0  | 0  7  0  \n",
    "- - - - - - - - - - - - - - - \n",
    "0  0  2  | 0  0  0  | 1  0  3  \n",
    "0  0  1  | 0  5  9  | 0  0  0  \n",
    "0  0  0  | 0  0  0  | 7  0  0  \n",
    "- - - - - - - - - - - - - - - "
   ],
   "cell_type": "code",
   "metadata": {},
   "execution_count": null,
   "outputs": []
  },
  {
   "cell_type": "code",
   "execution_count": 115,
   "metadata": {},
   "outputs": [
    {
     "output_type": "stream",
     "name": "stdout",
     "text": [
      "-------------------------------\n0  1  2  |  3  4  5  |  6  7  8  \n7  0  0  |  0  0  0  |  3  9  0  \n8  0  0  |  0  0  0  |  0  0  0  \n-------------------------------\n0  0  0  |  5  0  2  |  0  6  0  \n0  8  0  |  4  0  0  |  0  0  0  \n3  5  0  |  6  0  0  |  0  7  0  \n-------------------------------\n0  0  2  |  0  0  0  |  1  0  3  \n0  0  1  |  0  5  9  |  0  0  0  \n0  0  0  |  0  0  0  |  7  0  0  \n-------------------------------\n"
     ]
    }
   ],
   "source": [
    "sud = [\n",
    "    [0, 1, 2, 3, 4, 5, 6, 7, 8],\n",
    "    [7, 0, 0, 0, 0, 0, 3, 9, 0],\n",
    "    [8, 0, 0, 0, 0, 0, 0, 0, 0],\n",
    "    [0, 0, 0, 5, 0, 2, 0, 6, 0],\n",
    "    [0, 8, 0, 4, 0, 0, 0, 0, 0],\n",
    "    [3, 5, 0, 6, 0, 0, 0, 7, 0],\n",
    "    [0, 0, 2, 0, 0, 0, 1, 0, 3],\n",
    "    [0, 0, 1, 0, 5, 9, 0, 0, 0],\n",
    "    [0, 0, 0, 0, 0, 0, 7, 0, 0]\n",
    "]\n",
    "\n",
    "# print(sud[0])\n",
    "\n",
    "for j in range(0,9):\n",
    "    if j % 3 == 0:\n",
    "        print(\"-------------------------------\")\n",
    "        for i in range(len(sud[j])):\n",
    "            print(\"|\", \"\", sud[j][i], \" \", end=\"\") if i % 3 == 0 and i != 0 else print(sud[j][i], \" \", end=\"\")\n",
    "        print()\n",
    "    else:\n",
    "        for i in range(len(sud[j])):\n",
    "            print(\"|\", \"\", sud[j][i], \" \", end=\"\") if i % 3 == 0 and i != 0 else print(sud[j][i], \" \", end=\"\")\n",
    "        print()\n",
    "print(\"-------------------------------\")\n"
   ]
  },
  {
   "cell_type": "code",
   "execution_count": null,
   "metadata": {},
   "outputs": [],
   "source": []
  },
  {
   "cell_type": "code",
   "execution_count": null,
   "metadata": {},
   "outputs": [],
   "source": []
  },
  {
   "cell_type": "code",
   "execution_count": null,
   "metadata": {},
   "outputs": [],
   "source": []
  }
 ]
}