{
  "nbformat": 4,
  "nbformat_minor": 0,
  "metadata": {
    "colab": {
      "name": "Workshop - 1.ipynb",
      "provenance": []
    },
    "kernelspec": {
      "name": "python3",
      "display_name": "Python 3",
      "language": "python"
    }
  },
  "cells": [
    {
      "cell_type": "code",
      "metadata": {
        "colab": {
          "base_uri": "https://localhost:8080/"
        },
        "id": "_IHY1Z0SDh_t",
        "outputId": "b5fd5e1a-03e8-4ed7-d479-ec89f9a8ac0d"
      },
      "source": [
        "number1 = int(input(\"Please enter a number \"))\n",
        "number2 = int(input(\"Please enter one more number \"))\n",
        "number3 = int(input(\"Last time please enter one more number \"))\n",
        "result = number1 * number2 * number3\n",
        "print(\"The result of multiplying the three numbers you give: \", result)"
      ],
      "execution_count": null,
      "outputs": []
    },
    {
      "source": [
        "PROBLEM-2 VÜCUT KİTLE İNDEXİ"
      ],
      "cell_type": "code",
      "metadata": {
        "id": "NbroE8a52nM4"
      },
      "execution_count": null,
      "outputs": []
    },
    {
      "cell_type": "code",
      "metadata": {
        "colab": {
          "base_uri": "https://localhost:8080/"
        },
        "id": "xCX_RMEX2skt",
        "outputId": "b41829dd-7d26-415d-983b-cbe8c4f57e8c"
      },
      "source": [
        "height = int(input(\"Please enter your height in cm\"))\n",
        "weight = int(input(\"Please enter your weight\"))\n",
        "\n",
        "mass_index  = weight/((height/100)**2)\n",
        "print(\"Your Body Mass index: \", int(mass_index))"
      ],
      "execution_count": 10,
      "outputs": [
        {
          "output_type": "stream",
          "name": "stdout",
          "text": [
            "Your Body Mass index:  27\n"
          ]
        }
      ]
    },
    {
      "cell_type": "markdown",
      "metadata": {
        "id": "rGg3hrFi49wc"
      },
      "source": [
        "PROBLEM-3"
      ]
    },
    {
      "cell_type": "code",
      "metadata": {
        "colab": {
          "base_uri": "https://localhost:8080/"
        },
        "id": "R-R5xYAc4_Zq",
        "outputId": "b086eb0f-57b5-4f30-9743-5b37b4b71634"
      },
      "source": [
        "piece = 200 // 11\n",
        "remaining = 200 % 11\n",
        "print(\"200 dolara tanesi 11 dolardan\", piece, \"parça malzeme alınır ve\", remaining, \"$ elimizde para kalır.\")\n"
      ],
      "execution_count": null,
      "outputs": []
    },
    {
      "cell_type": "markdown",
      "metadata": {
        "id": "aJ281WbQeTfi"
      },
      "source": [
        "**PROBLEM 4**"
      ]
    },
    {
      "cell_type": "code",
      "metadata": {
        "colab": {
          "base_uri": "https://localhost:8080/"
        },
        "id": "2dFTj_PFcOau",
        "outputId": "e10b03f7-7090-4fc9-9bb3-424438660dcd"
      },
      "source": [
        "num1 = int(input(\"Please enter a number \"))\n",
        "num2 = int(input(\"Please ent2er one more number \"))\n",
        "num_tem = num2\n",
        "num2 = num1\n",
        "num1 = num_tem\n",
        "\n",
        "print(num1, num2, sep='\\n')"
      ],
      "execution_count": null,
      "outputs": [
        {
          "output_type": "stream",
          "text": [
            "Please enter a number 10\n",
            "Please ent2er one more number 20\n",
            "20\n",
            "10\n"
          ],
          "name": "stdout"
        }
      ]
    },
    {
      "cell_type": "markdown",
      "metadata": {
        "id": "Wz119KH1eZE8"
      },
      "source": [
        "**PROBLEM 5**"
      ]
    },
    {
      "cell_type": "code",
      "metadata": {
        "colab": {
          "base_uri": "https://localhost:8080/"
        },
        "id": "1vcuDLpVegCM",
        "outputId": "fecbc1bf-c1ed-4563-8540-a3f9c0d9d3e7"
      },
      "source": [
        "x = 9\n",
        "y = 4\n",
        "result = (x - y) * (x + y)\n",
        "print(result)\n"
      ],
      "execution_count": 1,
      "outputs": [
        {
          "output_type": "stream",
          "name": "stdout",
          "text": [
            "65\n"
          ]
        }
      ]
    },
    {
      "source": [
        "**PROBLEM 6**"
      ],
      "cell_type": "code",
      "metadata": {
        "id": "oEbY8LbQfilu"
      },
      "execution_count": null,
      "outputs": []
    },
    {
      "cell_type": "code",
      "metadata": {
        "colab": {
          "base_uri": "https://localhost:8080/"
        },
        "id": "0JlCw-tcfklh",
        "outputId": "074c448d-db59-4a58-962d-a7adc7fa059b"
      },
      "source": [
        "word = input(\"Please enter a word \")\n",
        "sep_w = input(\"Please enter a seperator \")\n",
        "rep = int(input(\"Please enter a number for the number of repeats \"))\n",
        "\n",
        "result = (word + sep_w) * (rep -1) + word\n",
        "\n",
        "print(result)"
      ],
      "execution_count": null,
      "outputs": []
    },
    {
      "cell_type": "code",
      "metadata": {
        "colab": {
          "base_uri": "https://localhost:8080/"
        },
        "id": "S57Ocvb3uMa5",
        "outputId": "e71d8fc6-ba54-4914-a301-a2586635bdf0"
      },
      "source": [
        "name = 'again'\n",
        "name2 = 'ahmet'\n",
        "xx= \"-\"\n",
        "numb = 4\n",
        "print(*numb*(name,name2,),sep=xx)\n"
      ],
      "execution_count": null,
      "outputs": []
    },
    {
      "cell_type": "markdown",
      "metadata": {
        "id": "LKnU2Uw5tQJK"
      },
      "source": []
    },
    {
      "cell_type": "markdown",
      "metadata": {
        "id": "WY1YW664puQO"
      },
      "source": [
        "PROBLEM 7\n",
        "\n"
      ]
    },
    {
      "cell_type": "markdown",
      "metadata": {
        "id": "j5ZQrRcqtMo6"
      },
      "source": [
        "![Ekran Alıntısı.PNG](data:image/png;base64,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)"
      ]
    },
    {
      "cell_type": "code",
      "metadata": {
        "colab": {
          "base_uri": "https://localhost:8080/"
        },
        "id": "hMJtWeq0p0kH",
        "outputId": "c1bf108c-91cc-403b-a775-f1a8366cf78f"
      },
      "source": [
        "print(\"clarusway\" and 0 and not \"\" and False and (\" \" or None))"
      ],
      "execution_count": null,
      "outputs": [
        {
          "output_type": "stream",
          "text": [
            "0\n"
          ],
          "name": "stdout"
        }
      ]
    },
    {
      "cell_type": "code",
      "metadata": {
        "colab": {
          "base_uri": "https://localhost:8080/"
        },
        "id": "Ypihp6SUxepT",
        "outputId": "a579366e-45b7-4abd-fc19-2f672cc880b9"
      },
      "source": [
        "print(True and False and not \"False\" and None and (\"None\" or None))"
      ],
      "execution_count": 6,
      "outputs": [
        {
          "output_type": "stream",
          "name": "stdout",
          "text": [
            "False\n"
          ]
        }
      ]
    },
    {
      "cell_type": "code",
      "metadata": {
        "colab": {
          "base_uri": "https://localhost:8080/"
        },
        "id": "ttoIvdPjyKvO",
        "outputId": "e791f552-94cc-48e1-8b5a-c30d2247d157"
      },
      "source": [
        "print(\"clarusway\" and 0 and not \"\" and False and (\" \" or None))"
      ],
      "execution_count": 8,
      "outputs": [
        {
          "output_type": "stream",
          "name": "stdout",
          "text": [
            "0\n"
          ]
        }
      ]
    },
    {
      "cell_type": "code",
      "metadata": {
        "colab": {
          "base_uri": "https://localhost:8080/"
        },
        "id": "GZtv3w6K1cP1",
        "outputId": "f0602c40-deea-4f61-8770-f7aea91535d5"
      },
      "source": [
        "print(0 and False)"
      ],
      "execution_count": 7,
      "outputs": [
        {
          "output_type": "stream",
          "name": "stdout",
          "text": [
            "0\n"
          ]
        }
      ]
    },
    {
      "cell_type": "code",
      "execution_count": null,
      "metadata": {},
      "outputs": [],
      "source": []
    }
  ]
}