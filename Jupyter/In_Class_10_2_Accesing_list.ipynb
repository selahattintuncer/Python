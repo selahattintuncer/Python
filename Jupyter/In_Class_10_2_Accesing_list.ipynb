{
 "metadata": {
  "language_info": {
   "codemirror_mode": {
    "name": "ipython",
    "version": 3
   },
   "file_extension": ".py",
   "mimetype": "text/x-python",
   "name": "python",
   "nbconvert_exporter": "python",
   "pygments_lexer": "ipython3",
   "version": "3.9.2-final"
  },
  "orig_nbformat": 2,
  "kernelspec": {
   "name": "python392jvsc74a57bd08aa71f66831ae3a9c893a3b058ea0ed6f85404695a12d9a8794cb7bab518847e",
   "display_name": "Python 3.9.2 64-bit"
  },
  "metadata": {
   "interpreter": {
    "hash": "8aa71f66831ae3a9c893a3b058ea0ed6f85404695a12d9a8794cb7bab518847e"
   }
  }
 },
 "nbformat": 4,
 "nbformat_minor": 2,
 "cells": [
  {
   "cell_type": "code",
   "execution_count": null,
   "metadata": {},
   "outputs": [],
   "source": [
    "# INDEXING A LIST"
   ]
  },
  {
   "cell_type": "code",
   "execution_count": 1,
   "metadata": {},
   "outputs": [
    {
     "output_type": "stream",
     "name": "stdout",
     "text": [
      "levrek\n"
     ]
    }
   ],
   "source": [
    "list = [\"hamsi\", \"levrek\", \"alabalık\"]\n",
    "print(list[1]) # 1 index nolu elemanı getirir.\n"
   ]
  },
  {
   "cell_type": "code",
   "execution_count": 4,
   "metadata": {},
   "outputs": [
    {
     "output_type": "stream",
     "name": "stdout",
     "text": [
      "5\na\n"
     ]
    }
   ],
   "source": [
    "word = [\"h\", \"a\", \"p\", \"p\",\"y\"]\n",
    "print(len(word))\n",
    "print(word[1]) # 1 index nolu elemanı getirir.\n"
   ]
  },
  {
   "cell_type": "code",
   "execution_count": 5,
   "metadata": {},
   "outputs": [
    {
     "output_type": "execute_result",
     "data": {
      "text/plain": [
       "True"
      ]
     },
     "metadata": {},
     "execution_count": 5
    }
   ],
   "source": [
    "new = [\"h\", \"a\", 1, [\"p\", 5], True]\n",
    "new[4]\n"
   ]
  },
  {
   "cell_type": "code",
   "execution_count": 10,
   "metadata": {},
   "outputs": [
    {
     "output_type": "stream",
     "name": "stdout",
     "text": [
      "<class 'list'>\n<class 'bool'>\n"
     ]
    }
   ],
   "source": [
    "print(type(new)) # new değişkeni list tipi iken\n",
    "print(type(new[4])) # list in içindeki 4ncü indexteki lemanın tipi ise bool dür."
   ]
  },
  {
   "cell_type": "code",
   "execution_count": 11,
   "metadata": {},
   "outputs": [
    {
     "output_type": "stream",
     "name": "stdout",
     "text": [
      "[['ankara', 'sivas', 'kayseri']]\n"
     ]
    }
   ],
   "source": [
    "city = [\"ankara\", \"sivas\", \"kayseri\"]\n",
    "city_list = []\n",
    "city_list.append(city)\n",
    "\n",
    "print(city_list)"
   ]
  },
  {
   "cell_type": "code",
   "execution_count": 14,
   "metadata": {},
   "outputs": [
    {
     "output_type": "stream",
     "name": "stdout",
     "text": [
      "['ankara', 'sivas', 'kayseri']\nankara\na\n"
     ]
    }
   ],
   "source": [
    "print(city_list[0]) # city_list içindeki list elemanını getirir = ['ankara', 'sivas', 'kayseri']\n",
    "print(city_list[0][0]) #city_list içindeki list elemanının içindeki ilk elemanı getirir = ankara\n",
    "print(city_list[0][0][0]) # city_list içindeki list elemanının içindeki ilk elemanın ilk elemanını = a =verir."
   ]
  },
  {
   "cell_type": "code",
   "execution_count": 1,
   "metadata": {},
   "outputs": [
    {
     "output_type": "stream",
     "name": "stdout",
     "text": [
      "[4, 6, 8]\n"
     ]
    }
   ],
   "source": [
    "numbers = [2, 4, 6, 8, 10, 12,] \n",
    "\n",
    "print(numbers[1:4]) "
   ]
  },
  {
   "cell_type": "code",
   "execution_count": 7,
   "metadata": {},
   "outputs": [
    {
     "output_type": "stream",
     "name": "stdout",
     "text": [
      "[1, 3, 5, 7, 9]\n[1, 3, 5, 7, 9]\n"
     ]
    }
   ],
   "source": [
    "numbers_2 = list(range(1, 10))  # range fonksiyonu ile 1 den 10 kadar sayı üretip, list fonksiyonu ile list'e atadı\n",
    "\n",
    "print(numbers_2 [0:11:2]) # numbers_s list değişkeni içindeki elemanları sıfırıncı elamandan 11-1 yani 10ncu lemana kadar 2 şer atlayarak yazdı\n",
    "print(numbers_2 [::2])  # bu şekilde de olur\n"
   ]
  },
  {
   "cell_type": "code",
   "execution_count": 9,
   "metadata": {},
   "outputs": [
    {
     "output_type": "stream",
     "name": "stdout",
     "text": [
      "['one', 'two', 'there']\n"
     ]
    }
   ],
   "source": [
    "mix_list = [1, [1, \"one\", 2, \"two\", 3, \"there\"], 4]\n",
    "\n",
    "print(mix_list[1][1:6:2]) # [1] ile listeyi indexleyerek list içinde ki 1 nolu indexte olan list i aldı ve sonra o listin içindeki ilemanları slicing layarak yazdı ( 1 nci indexdki elemandan 6-1 ncı elamana kadar 2 şer atlayarak yaz)"
   ]
  },
  {
   "cell_type": "code",
   "execution_count": null,
   "metadata": {},
   "outputs": [],
   "source": [
    "#NEGATIVE INDEXING & LICING"
   ]
  },
  {
   "cell_type": "code",
   "execution_count": 10,
   "metadata": {},
   "outputs": [
    {
     "output_type": "stream",
     "name": "stdout",
     "text": [
      "l\n"
     ]
    }
   ],
   "source": [
    "sehrim = [\"i\", \"s\", \"t\", \"a\", \"n\", \"b\", \"u\", \"l\"]\n",
    "\n",
    "print(sehrim[-1]) # -1 nci elaman son eleman olduğu için l karakterinin yazdı"
   ]
  },
  {
   "cell_type": "code",
   "execution_count": 16,
   "metadata": {},
   "outputs": [
    {
     "output_type": "stream",
     "name": "stdout",
     "text": [
      "['i', 's', 't', 'a', 'n']\n"
     ]
    }
   ],
   "source": [
    "print(sehrim[:-3]) # -3 ncü index ve sonrasını getirir."
   ]
  },
  {
   "cell_type": "code",
   "execution_count": null,
   "metadata": {},
   "outputs": [],
   "source": []
  }
 ]
}