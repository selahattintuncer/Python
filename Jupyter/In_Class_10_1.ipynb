{
 "metadata": {
  "language_info": {
   "codemirror_mode": {
    "name": "ipython",
    "version": 3
   },
   "file_extension": ".py",
   "mimetype": "text/x-python",
   "name": "python",
   "nbconvert_exporter": "python",
   "pygments_lexer": "ipython3",
   "version": "3.9.2-final"
  },
  "orig_nbformat": 2,
  "kernelspec": {
   "name": "python392jvsc74a57bd08aa71f66831ae3a9c893a3b058ea0ed6f85404695a12d9a8794cb7bab518847e",
   "display_name": "Python 3.9.2 64-bit"
  },
  "metadata": {
   "interpreter": {
    "hash": "8aa71f66831ae3a9c893a3b058ea0ed6f85404695a12d9a8794cb7bab518847e"
   }
  }
 },
 "nbformat": 4,
 "nbformat_minor": 2,
 "cells": [
  {
   "cell_type": "code",
   "execution_count": 8,
   "metadata": {},
   "outputs": [
    {
     "output_type": "stream",
     "name": "stdout",
     "text": [
      "[1, 2, 3, 4, 5]\n"
     ]
    }
   ],
   "source": [
    "List = [1, 2, 3, 4]\n",
    "List.insert(4, 5)  # buradaki 4 yeni index numarası olarak tanımlanıyor. Ve bu indexe 5 elemanı eklniyor\n",
    "\n",
    "\n",
    "print(List)"
   ]
  },
  {
   "cell_type": "code",
   "execution_count": 5,
   "metadata": {},
   "outputs": [
    {
     "output_type": "stream",
     "name": "stdout",
     "text": [
      "[1, 4, 9]\n"
     ]
    }
   ],
   "source": [
    "#.remove  eleman siler\n",
    "\n",
    "numbers = [1, 4, 7, 9] # 7 elemanını siler\n",
    "numbers.remove(7)\n",
    "\n",
    "print(numbers)"
   ]
  },
  {
   "cell_type": "code",
   "execution_count": 9,
   "metadata": {},
   "outputs": [
    {
     "output_type": "stream",
     "name": "stdout",
     "text": [
      "[1, 4, 7, 9]\n"
     ]
    }
   ],
   "source": [
    "# .sort defoult olarak küçükten büyüğe doğru sıralar\n",
    "\n",
    "numbers = [9, 4, 7, 1] # küçükten büyüğe sıralar\n",
    "numbers.sort()\n",
    "\n",
    "print(numbers)"
   ]
  },
  {
   "cell_type": "code",
   "execution_count": 11,
   "metadata": {},
   "outputs": [
    {
     "output_type": "stream",
     "name": "stdout",
     "text": [
      "['ahmet', 'bülent', 'selo', 'sema']\n"
     ]
    }
   ],
   "source": [
    "numbers = [\"selo\", \"ahmet\", \"sema\", \"bülent\"]  # harf sırasına göre sıralar\n",
    "numbers.sort()\n",
    "\n",
    "print(numbers)"
   ]
  },
  {
   "cell_type": "code",
   "execution_count": null,
   "metadata": {},
   "outputs": [],
   "source": [
    "mix_list = [\"d\", 1, \"a\", 7] # farklı tipleri sıralamaz. Hata verir.\n",
    "mix_list.sort()\n",
    "print(mix_list)"
   ]
  },
  {
   "cell_type": "code",
   "execution_count": 18,
   "metadata": {},
   "outputs": [
    {
     "output_type": "stream",
     "name": "stdout",
     "text": [
      "['Nine', 'four', 'one']\n"
     ]
    }
   ],
   "source": [
    "list_1 = ['one', 'four', 'Nine'] # sıralama yarken büyük harfi başa alır.\n",
    "list_1.sort()\n",
    "\n",
    "print(list_1)"
   ]
  },
  {
   "cell_type": "code",
   "execution_count": 21,
   "metadata": {},
   "outputs": [
    {
     "output_type": "stream",
     "name": "stdout",
     "text": [
      "['*-', '@', 'False']\n"
     ]
    }
   ],
   "source": [
    "list_2 = [\"@\", \"*-\", \"False\"] # ASCI koda göre sıralama yapar \n",
    "list_2.sort()\n",
    "\n",
    "print(list_2)"
   ]
  },
  {
   "cell_type": "code",
   "execution_count": 22,
   "metadata": {},
   "outputs": [
    {
     "output_type": "stream",
     "name": "stdout",
     "text": [
      "[False, True]\n"
     ]
    }
   ],
   "source": [
    "xx = [True, False] # False =0 , True = 1 olarak kabul edildiğinden önce sıfır gelir\n",
    "xx.sort()\n",
    "\n",
    "print(xx)"
   ]
  },
  {
   "cell_type": "code",
   "execution_count": 25,
   "metadata": {},
   "outputs": [
    {
     "output_type": "stream",
     "name": "stdout",
     "text": [
      "[[-12, 2], [3], [44, -11]]\n"
     ]
    }
   ],
   "source": [
    "list_4 = [[3], [44, -11], [-12, 2]] # Listenin ilk elemanına göre sıralar\n",
    "list_4.sort()\n",
    "print(list_4)"
   ]
  },
  {
   "cell_type": "code",
   "execution_count": 26,
   "metadata": {},
   "outputs": [
    {
     "output_type": "stream",
     "name": "stdout",
     "text": [
      "[[-1, 'iki'], [1, 'bir'], [3, 'üç']]\n"
     ]
    }
   ],
   "source": [
    "yy = [[1, \"bir\"], [-1, \"iki\"], [3, \"üç\"]] # ilk elemanlar int olduğu için sıralar. Bir tanesi string olsaydı hata verirdi\n",
    "yy.sort()\n",
    "print(yy)"
   ]
  },
  {
   "cell_type": "code",
   "execution_count": 28,
   "metadata": {},
   "outputs": [
    {
     "output_type": "stream",
     "name": "stdout",
     "text": [
      "['False', '@', '*-']\n"
     ]
    }
   ],
   "source": [
    "list_2 = [\"@\", \"*-\", \"False\"] # ASCI koda göre sıralama yapar \n",
    "list_2.sort(reverse=True) # Tersen sıralama yapar, defoult değeri False dir.\n",
    "\n",
    "print(list_2)"
   ]
  },
  {
   "cell_type": "code",
   "execution_count": null,
   "metadata": {},
   "outputs": [],
   "source": []
  }
 ]
}