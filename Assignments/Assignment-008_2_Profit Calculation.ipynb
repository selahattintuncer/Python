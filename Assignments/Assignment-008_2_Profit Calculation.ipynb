{
 "metadata": {
  "language_info": {
   "codemirror_mode": {
    "name": "ipython",
    "version": 3
   },
   "file_extension": ".py",
   "mimetype": "text/x-python",
   "name": "python",
   "nbconvert_exporter": "python",
   "pygments_lexer": "ipython3",
   "version": "3.7.8-final"
  },
  "orig_nbformat": 2,
  "kernelspec": {
   "name": "python378jvsc74a57bd057baa5815c940fdaff4d14510622de9616cae602444507ba5d0b6727c008cbd6",
   "display_name": "Python 3.7.8 64-bit"
  },
  "metadata": {
   "interpreter": {
    "hash": "57baa5815c940fdaff4d14510622de9616cae602444507ba5d0b6727c008cbd6"
   }
  }
 },
 "nbformat": 4,
 "nbformat_minor": 2,
 "cells": [
  {
   "cell_type": "code",
   "execution_count": 11,
   "metadata": {},
   "outputs": [
    {
     "output_type": "stream",
     "name": "stdout",
     "text": [
      "45.0\n13130\n"
     ]
    }
   ],
   "source": [
    "sales = {\n",
    "  \"cost_value\": 31.87,\n",
    "  \"sell_value\": 45.00,\n",
    "  \"inventory\": 1000\n",
    "        }  \n",
    "print(sales[\"sell_value\"])\n",
    "sales_profit = int(round((sales[\"sell_value\"] - sales[\"cost_value\"]) * sales[\"inventory\"]))\n",
    "print(sales_profit)\n",
    "\n"
   ]
  },
  {
   "cell_type": "code",
   "execution_count": 178,
   "metadata": {},
   "outputs": [
    {
     "output_type": "stream",
     "name": "stdout",
     "text": [
      "$20.00\n"
     ]
    }
   ],
   "source": [
    "value = float(input(\"Please enter the number\"))  #YÖNTEM 1\n",
    "number = (\"{:.2f}\".format(value)) #int(input(\"Please enter a number \"))\n",
    "print(\"$\" + str(number))\n"
   ]
  },
  {
   "cell_type": "code",
   "execution_count": 184,
   "metadata": {},
   "outputs": [
    {
     "output_type": "stream",
     "name": "stdout",
     "text": [
      "$20.00\n"
     ]
    }
   ],
   "source": [
    "number = (\"{:.2f}\".format(float(input(\"Please enter the number\"))))   #YÖNTEM 2\n",
    "print(\"$\" + str(number))\n"
   ]
  },
  {
   "cell_type": "code",
   "execution_count": 185,
   "metadata": {},
   "outputs": [
    {
     "output_type": "stream",
     "name": "stdout",
     "text": [
      "$20.00\n"
     ]
    }
   ],
   "source": [
    "print(\"$\" + str((\"{:.2f}\".format(float(input(\"Please enter the number\"))))))  #YÖNTEM 3"
   ]
  },
  {
   "cell_type": "code",
   "execution_count": null,
   "metadata": {},
   "outputs": [],
   "source": []
  }
 ]
}