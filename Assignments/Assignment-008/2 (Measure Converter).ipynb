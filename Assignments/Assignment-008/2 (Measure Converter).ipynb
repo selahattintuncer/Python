{
 "metadata": {
  "language_info": {
   "codemirror_mode": {
    "name": "ipython",
    "version": 3
   },
   "file_extension": ".py",
   "mimetype": "text/x-python",
   "name": "python",
   "nbconvert_exporter": "python",
   "pygments_lexer": "ipython3",
   "version": "3.9.2-final"
  },
  "orig_nbformat": 2,
  "kernelspec": {
   "name": "python392jvsc74a57bd08aa71f66831ae3a9c893a3b058ea0ed6f85404695a12d9a8794cb7bab518847e",
   "display_name": "Python 3.9.2 64-bit"
  },
  "metadata": {
   "interpreter": {
    "hash": "8aa71f66831ae3a9c893a3b058ea0ed6f85404695a12d9a8794cb7bab518847e"
   }
  }
 },
 "nbformat": 4,
 "nbformat_minor": 2,
 "cells": [
  {
   "cell_type": "code",
   "execution_count": 7,
   "metadata": {},
   "outputs": [
    {
     "output_type": "stream",
     "name": "stdout",
     "text": [
      "The value of the temperature you have entered in Fahrenheit is 104.0\n"
     ]
    }
   ],
   "source": [
    "celsius = float(input(\"Please enter the temperature (Celsius °C)\"))\n",
    "fahrenheit = celsius * 9 / 5 + 32\n",
    "print(\"The value of the temperature you have entered in Fahrenheit is\", fahrenheit)"
   ]
  },
  {
   "cell_type": "code",
   "execution_count": 9,
   "metadata": {},
   "outputs": [
    {
     "output_type": "stream",
     "name": "stdout",
     "text": [
      "The value in miles for the distance you entered is 62.13711922373339\n"
     ]
    }
   ],
   "source": [
    "km = float(input(\"Please enter the distance (km)\"))\n",
    "mil = km / 1.609344\n",
    "print(\"The value in miles for the distance you entered is\", mil)"
   ]
  },
  {
   "cell_type": "code",
   "execution_count": null,
   "metadata": {},
   "outputs": [],
   "source": []
  }
 ]
}