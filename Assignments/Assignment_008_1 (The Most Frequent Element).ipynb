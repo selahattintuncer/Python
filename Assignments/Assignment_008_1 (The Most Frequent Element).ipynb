{
 "metadata": {
  "language_info": {
   "codemirror_mode": {
    "name": "ipython",
    "version": 3
   },
   "file_extension": ".py",
   "mimetype": "text/x-python",
   "name": "python",
   "nbconvert_exporter": "python",
   "pygments_lexer": "ipython3",
   "version": "3.9.2-final"
  },
  "orig_nbformat": 2,
  "kernelspec": {
   "name": "python392jvsc74a57bd08aa71f66831ae3a9c893a3b058ea0ed6f85404695a12d9a8794cb7bab518847e",
   "display_name": "Python 3.9.2 64-bit"
  },
  "metadata": {
   "interpreter": {
    "hash": "8aa71f66831ae3a9c893a3b058ea0ed6f85404695a12d9a8794cb7bab518847e"
   }
  }
 },
 "nbformat": 4,
 "nbformat_minor": 2,
 "cells": [
  {
   "cell_type": "code",
   "execution_count": 16,
   "metadata": {},
   "outputs": [
    {
     "output_type": "stream",
     "name": "stdout",
     "text": [
      "the most frequent number is 3 and it was 4 times repeated\n"
     ]
    }
   ],
   "source": [
    "numbers = [1, 3, 7, 4, 3, 0, 3, 6, 3]\n",
    "\n",
    "count = 0\n",
    "\n",
    "for i in numbers:\n",
    "    current_freq = numbers.count(i)\n",
    "    if (current_freq > count):\n",
    "        count = current_freq\n",
    "        num = i\n",
    "\n",
    "print(f\"the most frequent number is {num} and it was {count} times repeated\")\n",
    "\n"
   ]
  },
  {
   "cell_type": "code",
   "execution_count": 28,
   "metadata": {},
   "outputs": [
    {
     "output_type": "stream",
     "name": "stdout",
     "text": [
      "the most frequent number is 3 and it was 4 times repeated\n"
     ]
    }
   ],
   "source": [
    "numbers = [1, 3, 7, 4, 3, 0, 3, 6, 3]\n",
    "\n",
    "frequent = max(set(numbers), key = numbers.count)\n",
    "#frequency = numbers.count(max(set(numbers), key = numbers.count))\n",
    "frequency = numbers.count(frequent)\n",
    "\n",
    "print(f\"the most frequent number is {frequent} and it was {frequency} times repeated\")\n",
    "\n"
   ]
  },
  {
   "cell_type": "code",
   "execution_count": 49,
   "metadata": {},
   "outputs": [
    {
     "output_type": "stream",
     "name": "stdout",
     "text": [
      "(4, 3)\nthe most frequent number is 3 and it was 4 times repeated\n"
     ]
    }
   ],
   "source": [
    "numbers = [1, 3, 7, 4, 3, 0, 3, 6, 3]\n",
    "moc = max([(numbers.count(chr),chr) for chr in set(numbers)])\n",
    "print(moc)\n",
    "\n",
    "print(f\"the most frequent number is {moc[1]} and it was {moc[0]} times repeated\")\n",
    "\n"
   ]
  },
  {
   "cell_type": "code",
   "execution_count": 53,
   "metadata": {},
   "outputs": [
    {
     "output_type": "stream",
     "name": "stdout",
     "text": [
      "(4, 3)\n"
     ]
    }
   ],
   "source": [
    "    x = max([(numbers.count(y), y) for y in set(numbers)])\n",
    "    \n",
    "    print(x)\n",
    "    \n",
    "    #print(f\"the most frequent number is {x} and it was {y} times repeated\")"
   ]
  },
  {
   "cell_type": "code",
   "execution_count": 37,
   "metadata": {},
   "outputs": [
    {
     "output_type": "stream",
     "name": "stdout",
     "text": [
      "[(1, 'a'), (2, 'b'), (3, 'c'), (4, 'd')]\n"
     ]
    }
   ],
   "source": [
    "\n",
    "list_number = [1, 2, 3, 4]\n",
    "list_chr = [\"a\", \"b\", \"c\", \"d\"]\n",
    "\n",
    "list_mk = zip(list_number, list_chr)\n",
    "\n",
    "print(list(list_mk))"
   ]
  },
  {
   "cell_type": "code",
   "execution_count": null,
   "metadata": {},
   "outputs": [],
   "source": []
  }
 ]
}