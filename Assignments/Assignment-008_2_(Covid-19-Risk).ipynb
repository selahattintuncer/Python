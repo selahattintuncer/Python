{
 "metadata": {
  "language_info": {
   "codemirror_mode": {
    "name": "ipython",
    "version": 3
   },
   "file_extension": ".py",
   "mimetype": "text/x-python",
   "name": "python",
   "nbconvert_exporter": "python",
   "pygments_lexer": "ipython3",
   "version": "3.7.8"
  },
  "orig_nbformat": 2,
  "kernelspec": {
   "name": "python378jvsc74a57bd057baa5815c940fdaff4d14510622de9616cae602444507ba5d0b6727c008cbd6",
   "display_name": "Python 3.7.8 64-bit"
  },
  "metadata": {
   "interpreter": {
    "hash": "57baa5815c940fdaff4d14510622de9616cae602444507ba5d0b6727c008cbd6"
   }
  }
 },
 "nbformat": 4,
 "nbformat_minor": 2,
 "cells": [
  {
   "cell_type": "code",
   "execution_count": 14,
   "metadata": {},
   "outputs": [
    {
     "output_type": "stream",
     "name": "stdout",
     "text": [
      "<class 'bool'>\nFalse\nYou are not in risky group\n"
     ]
    }
   ],
   "source": [
    "age = input(\"Are you a cigarette addict older than 75 years old? (Yes or No)\").title() == \"Yes\"\n",
    "chronic = input(\"Do you have a severe chronic disease? (Yes or No)\").title() == \"Yes\"\n",
    "immune = input(\"Is your immune system too weak? (Yes or No)\").title() == \"Yes\"\n",
    "risk = age or chronic or immune\n",
    "\n",
    "\n",
    "\n",
    "if risk == True:\n",
    "    print(\"You are in risky group\")\n",
    "else:\n",
    "    print(\"You are not in risky group\")\n"
   ]
  },
  {
   "cell_type": "code",
   "execution_count": 2,
   "metadata": {},
   "outputs": [
    {
     "output_type": "stream",
     "name": "stdout",
     "text": [
      "risk grubundasın\n"
     ]
    }
   ],
   "source": [
    "age = \"Are you a cigarette addict older than 75 years old? (Yes or No): \"\n",
    "chronic = \"Do you have a severe chronic disease? (Yes or No): \"\n",
    "immune = \"Is your immune system too weak? (Yes or No): \"\n",
    "sorular = [age, chronic, immune]\n",
    "\n",
    "risklimi = 0\n",
    "i = 0\n",
    "\n",
    "while True:\n",
    "    cevap = input(sorular[i]).title()\n",
    "    \n",
    "    if cevap == \"Yes\" or cevap == \"No\":\n",
    "        if cevap == \"Yes\":\n",
    "            risklimi = 1\n",
    "        i += 1\n",
    "        if i == 3:\n",
    "            break\n",
    "    else:\n",
    "        print(\"Hatalı giriş\")\n",
    "        continue\n",
    "        \n",
    "\n",
    "if risklimi != 0:\n",
    "    print(\"risk grubundasın\")\n",
    "else:\n",
    "    print(\"risk grubunda değilsin\")"
   ]
  },
  {
   "cell_type": "code",
   "execution_count": null,
   "metadata": {},
   "outputs": [],
   "source": []
  }
 ]
}