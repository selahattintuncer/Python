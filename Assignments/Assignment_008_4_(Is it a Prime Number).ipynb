{
 "metadata": {
  "language_info": {
   "codemirror_mode": {
    "name": "ipython",
    "version": 3
   },
   "file_extension": ".py",
   "mimetype": "text/x-python",
   "name": "python",
   "nbconvert_exporter": "python",
   "pygments_lexer": "ipython3",
   "version": "3.8.5"
  },
  "orig_nbformat": 2,
  "kernelspec": {
   "name": "python385jvsc74a57bd0b54b48cfe90ab6a051ee6e26ba7283c14c2060a04cc5245f2199feb194c5d24d",
   "display_name": "Python 3.8.5 64-bit ('base': conda)"
  }
 },
 "nbformat": 4,
 "nbformat_minor": 2,
 "cells": [
  {
   "cell_type": "code",
   "execution_count": 8,
   "metadata": {},
   "outputs": [
    {
     "output_type": "stream",
     "name": "stdout",
     "text": [
      "1974121205 is not a prime number\n"
     ]
    }
   ],
   "source": [
    "while True:\n",
    "    try:\n",
    "        number = int(input(\"Please enter a possitive number\"))\n",
    "        break\n",
    "    except:\n",
    "        print(\"It is an invalid entry. Don't use non-numeric, float, or negative values!\")\n",
    "\n",
    "if number > 1:\n",
    "    for i in range(2, number):\n",
    "        if (number % i) == 0:\n",
    "            print(f\"{number} is not a prime number\")\n",
    "            break\n",
    "    else:\n",
    "        print(f\"{number} is a prime number\")\n",
    "else:\n",
    "  print(f\"{number} is not a prime number\")  \n",
    "\n",
    "\n",
    "\n"
   ]
  },
  {
   "cell_type": "code",
   "execution_count": null,
   "metadata": {},
   "outputs": [],
   "source": [
    "# HOCANIN ÇÖZÜMÜ\n",
    "n = int(input(\"Enter a number to check if it is a prime number.\"))\n",
    "count = 0\n",
    "for i in range(1, n+1) :\n",
    "    if n % i == 0 :\n",
    "        count += 1\n",
    "if (n == 0) or (n == 1) or (count >=3) :\n",
    "    print(n, \"is not a prime number.\")\n",
    "else:\n",
    "    print(n, \"is a prime number\")"
   ]
  }
 ]
}