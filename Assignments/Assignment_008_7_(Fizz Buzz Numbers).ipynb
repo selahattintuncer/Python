{
 "metadata": {
  "language_info": {
   "codemirror_mode": {
    "name": "ipython",
    "version": 3
   },
   "file_extension": ".py",
   "mimetype": "text/x-python",
   "name": "python",
   "nbconvert_exporter": "python",
   "pygments_lexer": "ipython3",
   "version": "3.9.2"
  },
  "orig_nbformat": 2,
  "kernelspec": {
   "name": "python392jvsc74a57bd08aa71f66831ae3a9c893a3b058ea0ed6f85404695a12d9a8794cb7bab518847e",
   "display_name": "Python 3.9.2 64-bit"
  },
  "metadata": {
   "interpreter": {
    "hash": "8aa71f66831ae3a9c893a3b058ea0ed6f85404695a12d9a8794cb7bab518847e"
   }
  }
 },
 "nbformat": 4,
 "nbformat_minor": 2,
 "cells": [
  {
   "source": [
    "Print numbers from 1 to 100 inclusively following these instructions:\n",
    "    \n",
    "    if a number is multiple of 3, print \"Fizz\" instead of this number,\n",
    "   \n",
    "    if a number is multiple of 5, print \"Buzz\" instead of this number,\n",
    "    \n",
    "    for numbers that are multiples of both 3 and 5, print \"FizzBuzz\",\n",
    "    \n",
    "    print the rest of the numbers unchanged.\n",
    "\n",
    "Output each value on a separate line."
   ],
   "cell_type": "markdown",
   "metadata": {}
  },
  {
   "cell_type": "code",
   "execution_count": null,
   "metadata": {},
   "outputs": [],
   "source": [
    "for i in range(1,100):\n",
    "    if i % 3 == 0:\n",
    "        if i % 5 == 0:\n",
    "            print(\"FizzBuzz\")\n",
    "        else:\n",
    "            print(\"Fizz\")\n",
    "    elif i % 5 == 0:\n",
    "        print(\"Buzz\")\n",
    "    else:\n",
    "        print(i)"
   ]
  },
  {
   "cell_type": "code",
   "execution_count": 1,
   "metadata": {},
   "outputs": [
    {
     "output_type": "stream",
     "name": "stdout",
     "text": [
      "[1, 2, 'buzz', 4, 'fiz', 'buzz', 7, 8, 'buzz', 'fiz', 11, 'buzz', 13, 14, 'fizbuzz']\n"
     ]
    }
   ],
   "source": [
    "print(['fizbuzz'  if not i%15 else 'fiz' if not i%5 else \"buzz\" if not i%3 else i for i in range(1,16)])"
   ]
  },
  {
   "cell_type": "code",
   "execution_count": null,
   "metadata": {},
   "outputs": [],
   "source": []
  }
 ]
}