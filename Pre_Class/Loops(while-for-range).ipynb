{
 "metadata": {
  "language_info": {
   "codemirror_mode": {
    "name": "ipython",
    "version": 3
   },
   "file_extension": ".py",
   "mimetype": "text/x-python",
   "name": "python",
   "nbconvert_exporter": "python",
   "pygments_lexer": "ipython3",
   "version": "3.7.8-final"
  },
  "orig_nbformat": 2,
  "kernelspec": {
   "name": "python378jvsc74a57bd057baa5815c940fdaff4d14510622de9616cae602444507ba5d0b6727c008cbd6",
   "display_name": "Python 3.7.8 64-bit"
  },
  "metadata": {
   "interpreter": {
    "hash": "57baa5815c940fdaff4d14510622de9616cae602444507ba5d0b6727c008cbd6"
   }
  }
 },
 "nbformat": 4,
 "nbformat_minor": 2,
 "cells": [
  {
   "cell_type": "code",
   "execution_count": null,
   "metadata": {},
   "outputs": [],
   "source": [
    "number = 0\n",
    "\n",
    "while number < 6:\n",
    "    print(number)\n",
    "    number += 1\n",
    "print('now, number is bigger or equal to 6')"
   ]
  },
  {
   "cell_type": "code",
   "execution_count": 21,
   "metadata": {},
   "outputs": [
    {
     "output_type": "stream",
     "name": "stdout",
     "text": [
      "square of 0 is : 0\nsquare of 1 is : 1\nsquare of 2 is : 4\nsquare of 3 is : 9\nsquare of 4 is : 16\n"
     ]
    }
   ],
   "source": [
    "my_list=[\"a\", \"b\", \"c\", \"d\", \"e\"]\n",
    "\n",
    "a = 0\n",
    "\n",
    "while a < len(my_list):\n",
    "    print('square of {} is : {}'.format(a, a**2))\n",
    "    a+=1"
   ]
  },
  {
   "cell_type": "code",
   "execution_count": null,
   "metadata": {},
   "outputs": [],
   "source": [
    "answer = 44\n",
    "\n",
    "question = 'What number am I thinking of?  '\n",
    "print (\"Let's play the guessing game!\")\n",
    "\n",
    "while True:\n",
    "    guess = int(input(question))\n",
    "\n",
    "    if guess < answer:\n",
    "        print('Little higher')\n",
    "    elif guess > answer:\n",
    "        print('Little lower')\n",
    "    else:  # guess == answer\n",
    "        print('Are you a MINDREADER!!!')\n",
    "        break\n"
   ]
  },
  {
   "cell_type": "code",
   "execution_count": null,
   "metadata": {},
   "outputs": [],
   "source": [
    "flowers = ['Rose', 'Orchid', 'Tulip']\n",
    "count1 = len(flowers) -1\n",
    "count2 = 0\n",
    "\n",
    "while count1 >= 0:\n",
    "    print(flowers[count2])\n",
    "    count1 -= 1\n",
    "    count2 += 1"
   ]
  },
  {
   "cell_type": "code",
   "execution_count": null,
   "metadata": {},
   "outputs": [],
   "source": [
    "for i in [1, 2, 3, 4, 5] :\n",
    "    print(i)"
   ]
  },
  {
   "cell_type": "code",
   "execution_count": null,
   "metadata": {},
   "outputs": [],
   "source": [
    "seasons = ['spring', 'summer', 'autumn', 'winter']\n",
    "\n",
    "for season in seasons :\n",
    "    print(season)"
   ]
  },
  {
   "cell_type": "code",
   "execution_count": null,
   "metadata": {},
   "outputs": [],
   "source": [
    "iterable = [1, 2, 3, 4]\n",
    "for i in iterable:\n",
    "    print(i ** 2)"
   ]
  },
  {
   "cell_type": "code",
   "execution_count": null,
   "metadata": {},
   "outputs": [],
   "source": [
    "course = 'clarusway'\n",
    "\n",
    "for i in course :\n",
    "    print(i)"
   ]
  },
  {
   "cell_type": "code",
   "execution_count": null,
   "metadata": {},
   "outputs": [],
   "source": [
    "times = int(input(\"How many times should I say 'I love you'\"))\n",
    "\n",
    "for i in range(times):\n",
    "    print('I love you')"
   ]
  },
  {
   "cell_type": "code",
   "execution_count": 1,
   "metadata": {},
   "outputs": [
    {
     "output_type": "stream",
     "name": "stdout",
     "text": [
      "5x0 =  0\n5x0 =  0\n5x0 =  0\n5x1 =  5\n5x1 =  5\n5x1 =  5\n5x2 =  10\n5x2 =  10\n5x2 =  10\n5x3 =  15\n5x3 =  15\n5x3 =  15\n5x4 =  20\n5x4 =  20\n5x4 =  20\n5x5 =  25\n5x5 =  25\n5x5 =  25\n5x6 =  30\n5x6 =  30\n5x6 =  30\n5x7 =  35\n5x7 =  35\n5x7 =  35\n5x8 =  40\n5x8 =  40\n5x8 =  40\n5x9 =  45\n5x9 =  45\n5x9 =  45\n5x10 =  50\n5x10 =  50\n5x10 =  50\n"
     ]
    }
   ],
   "source": [
    "n = int(input('enter a number between 1-10'))\n",
    "\n",
    "for i in range(11):\n",
    "    print('{}x{} = '.format(n, i), n*i)\n",
    "    print(f'{n}x{i} = ', n*i)\n",
    "    print('%d'%n + 'x' +'%d'%i + \" = \", n*i)\n"
   ]
  },
  {
   "cell_type": "code",
   "execution_count": 1,
   "metadata": {},
   "outputs": [
    {
     "output_type": "stream",
     "name": "stdout",
     "text": [
      "[0, 1, 2, 3, 4, 5, 6, 7, 8, 9, 10]\n"
     ]
    }
   ],
   "source": [
    "b = list(range(11))\n",
    "\n",
    "print(b)\n"
   ]
  },
  {
   "cell_type": "code",
   "execution_count": 2,
   "metadata": {},
   "outputs": [
    {
     "output_type": "stream",
     "name": "stdout",
     "text": [
      "{0, 1, 2, 3, 4, 5, 6, 7, 8, 9}\n"
     ]
    }
   ],
   "source": [
    "a = set(range(0,10))\n",
    "\n",
    "print(a)"
   ]
  },
  {
   "cell_type": "code",
   "execution_count": 3,
   "metadata": {},
   "outputs": [
    {
     "output_type": "stream",
     "name": "stdout",
     "text": [
      "(0, 1, 2, 3, 4, 5, 6, 7, 8, 9, 10)\n"
     ]
    }
   ],
   "source": [
    "c = tuple(range(11))\n",
    "\n",
    "print(c)"
   ]
  },
  {
   "cell_type": "code",
   "execution_count": 4,
   "metadata": {},
   "outputs": [
    {
     "output_type": "stream",
     "name": "stdout",
     "text": [
      "range(0, 5)\n0 1 2 3 4\n"
     ]
    }
   ],
   "source": [
    "print(range(5))  # it will not print the numbers in sequence -- sayıları sırayla yazdırmayacak \n",
    "\n",
    "print(*range(5))  # '*' separates its elements -- unsurlarını ayırır "
   ]
  },
  {
   "cell_type": "code",
   "execution_count": 5,
   "metadata": {},
   "outputs": [
    {
     "output_type": "stream",
     "name": "stdout",
     "text": [
      "5 7 9 11 13 15 17 19 21 23\n"
     ]
    }
   ],
   "source": [
    "print(*range(5,25,2))"
   ]
  },
  {
   "cell_type": "code",
   "execution_count": 8,
   "metadata": {},
   "outputs": [
    {
     "output_type": "stream",
     "name": "stdout",
     "text": [
      "1\n2\n3\n4\n5\n6\n7\n8\n9\n10\n"
     ]
    }
   ],
   "source": [
    "for i in range(1,11):\n",
    "    print(i)"
   ]
  },
  {
   "cell_type": "code",
   "execution_count": 9,
   "metadata": {},
   "outputs": [
    {
     "output_type": "stream",
     "name": "stdout",
     "text": [
      "s e p a r a t e\n"
     ]
    }
   ],
   "source": [
    "print(*('separate'))  #Yıldızlı ifade diğer yinelenebilir nesneleri ayırabilir. Örneğin, bir dizeyi ayırabilirsiniz:"
   ]
  },
  {
   "cell_type": "code",
   "execution_count": 10,
   "metadata": {},
   "outputs": [
    {
     "output_type": "stream",
     "name": "stdout",
     "text": [
      "10 8 6 4 2\n"
     ]
    }
   ],
   "source": [
    "print(*range(10,0,-2))\n"
   ]
  },
  {
   "cell_type": "code",
   "execution_count": null,
   "metadata": {},
   "outputs": [],
   "source": [
    "text = ['one','two','three','four','five']\n",
    "numbers = [1, 2, 3, 4, 5]\n",
    "for x, y in zip(text, numbers):\n",
    "    print(x, ':', y)"
   ]
  },
  {
   "cell_type": "code",
   "execution_count": null,
   "metadata": {},
   "outputs": [],
   "source": [
    "########### Nested 'for' Loop #########"
   ]
  },
  {
   "cell_type": "code",
   "execution_count": 11,
   "metadata": {},
   "outputs": [
    {
     "output_type": "stream",
     "name": "stdout",
     "text": [
      "I am happy\nI am confident\nYou are happy\nYou are confident\n"
     ]
    }
   ],
   "source": [
    "who = ['I am ', 'You are ']\n",
    "mood = ['happy', 'confident']\n",
    "for i in who:\n",
    "    for ii in mood:\n",
    "        print(i + ii)"
   ]
  },
  {
   "cell_type": "code",
   "execution_count": 12,
   "metadata": {},
   "outputs": [
    {
     "output_type": "stream",
     "name": "stdout",
     "text": [
      "I will stop smoking\nI will stop smoking\nI will stop smoking\nI will stop smoking\nI will stop smoking\n"
     ]
    }
   ],
   "source": [
    "a = 3\n",
    "while a**2 < 299:\n",
    "    print('I will stop smoking')\n",
    "    a += 3"
   ]
  },
  {
   "cell_type": "code",
   "execution_count": 13,
   "metadata": {},
   "outputs": [
    {
     "output_type": "stream",
     "name": "stdout",
     "text": [
      "Shipping Costs €10\n"
     ]
    }
   ],
   "source": [
    "total = 149\n",
    "country = \"FR\"\n",
    "\n",
    "if country == \"FR\":\n",
    "    if total <= 50:\n",
    "        print(\"Shipping Cost is  €30\")\n",
    "    elif total <= 100:\n",
    "        print(\"Shipping Cost is €15\")\n",
    "    elif total <= 150:\n",
    "        print(\"Shipping Costs €10\")\n",
    "    else:\n",
    "        print(\"Free Shipping\")\n",
    "if country == \"DE\": \n",
    "    if total <= 50:\n",
    "        print(\"Shipping Cost is  €25\")\n",
    "    else:\n",
    "        print(\"Free Shipping\")"
   ]
  },
  {
   "cell_type": "code",
   "execution_count": 20,
   "metadata": {},
   "outputs": [
    {
     "output_type": "stream",
     "name": "stdout",
     "text": [
      "Yippee! You can buy your PS\n"
     ]
    }
   ],
   "source": [
    "saved_amount = int(input('Please enter your saved amount: '))\n",
    "ps4_price = 400\n",
    "\n",
    "if saved_amount < 400:\n",
    "    if saved_amount <= ps4_price / 2:\n",
    "        print(\"You must save more, keep saving!\")\n",
    "    elif saved_amount > ps4_price / 2:\n",
    "        print(\"You saved more than half, keep saving!\")\n",
    "else:\n",
    "    print(\"Yippee! You can buy your PS4\")"
   ]
  },
  {
   "cell_type": "code",
   "execution_count": 8,
   "metadata": {},
   "outputs": [
    {
     "output_type": "stream",
     "name": "stdout",
     "text": [
      "D (Not Bad)\n"
     ]
    }
   ],
   "source": [
    "math_mark = int(input('Please enter the mark: '))\n",
    "\n",
    "if math_mark > 84:\n",
    "    print(\"A (Excellent)\")\n",
    "elif math_mark < 85 and math_mark > 69:\n",
    "   # if math_mark > 69:\n",
    "        print(\"B (Good)\")\n",
    "elif math_mark < 70 and math_mark > 59:\n",
    "    print(\"C (Medium)\")\n",
    "elif math_mark < 60 and math_mark > 44:\n",
    "    print(\"D (Not Bad)\")\n",
    "else:\n",
    "    print(\"F (Failed)\")\n"
   ]
  },
  {
   "cell_type": "code",
   "execution_count": 9,
   "metadata": {},
   "outputs": [
    {
     "output_type": "stream",
     "name": "stdout",
     "text": [
      "1996\n"
     ]
    }
   ],
   "source": [
    "print(998 * 2)"
   ]
  },
  {
   "cell_type": "code",
   "execution_count": 10,
   "metadata": {},
   "outputs": [
    {
     "output_type": "stream",
     "name": "stdout",
     "text": [
      "Day 1 : Monday\nDay 2 : Tuesday\nDay 3 : Wednesday\nDay 4 : Thursday\nDay 5 : Friday\n"
     ]
    }
   ],
   "source": [
    "weekdays = ['Monday', 'Tuesday', 'Wednesday', 'Thursday', 'Friday']\n",
    "for day in range (len(weekdays)):\n",
    "    print('Day', day+1, ':', weekdays[day])\n"
   ]
  },
  {
   "cell_type": "code",
   "execution_count": 11,
   "metadata": {},
   "outputs": [
    {
     "output_type": "stream",
     "name": "stdout",
     "text": [
      "49\n54\n59\n"
     ]
    }
   ],
   "source": [
    "a = 49\n",
    "while a <= 62:\n",
    "    print(a)\n",
    "    a += 5"
   ]
  },
  {
   "cell_type": "code",
   "execution_count": 13,
   "metadata": {},
   "outputs": [
    {
     "output_type": "stream",
     "name": "stdout",
     "text": [
      "49\n"
     ]
    }
   ],
   "source": [
    "a = 49\n",
    "while a % 2 != 0:\n",
    "    print(a)\n",
    "    a += 5"
   ]
  },
  {
   "cell_type": "code",
   "execution_count": 16,
   "metadata": {},
   "outputs": [
    {
     "output_type": "stream",
     "name": "stdout",
     "text": [
      "This is a spring month\n"
     ]
    }
   ],
   "source": [
    "month = \"July\"\n",
    "spring = \"September, April, January\"\n",
    "autumn = \"March, October, July\"\n",
    "\n",
    "if (month in spring) or (month in autumn):\n",
    "    if month in autumn:\n",
    "        print(\"This is a spring month\")\n",
    "    else:\n",
    "        print(\"This is an autumn month\")\n",
    "else:\n",
    "    print(\"This month is not categorized\")"
   ]
  },
  {
   "cell_type": "code",
   "execution_count": 25,
   "metadata": {},
   "outputs": [
    {
     "output_type": "stream",
     "name": "stdout",
     "text": [
      "0\n1\n4\n"
     ]
    }
   ],
   "source": [
    "number = int(input('Please enter a number: '))\n",
    "i= 0\n",
    "while i < number:\n",
    "    print(i ** 2)\n",
    "    i += 1"
   ]
  },
  {
   "cell_type": "code",
   "execution_count": 31,
   "metadata": {},
   "outputs": [
    {
     "output_type": "stream",
     "name": "stdout",
     "text": [
      "The type of {'section': 5, 'topic': 2} is <class 'dict'>\nThe type of clarusway is <class 'str'>\nThe type of [1, 4] is <class 'list'>\nThe type of 2020 is <class 'int'>\nThe type of 3.14 is <class 'float'>\nThe type of (1+618j) is <class 'complex'>\nThe type of False is <class 'bool'>\nThe type of (10, 20) is <class 'tuple'>\n"
     ]
    }
   ],
   "source": [
    "sample_list = [{\"section\":5, \"topic\":2}, 'clarusway', [1, 4], 2020, 3.14, 1+618j, False, (10, 20)]\n",
    "for i in sample_list:\n",
    "    print('The type of', i, 'is', type(i))"
   ]
  },
  {
   "cell_type": "code",
   "execution_count": null,
   "metadata": {},
   "outputs": [],
   "source": []
  }
 ]
}